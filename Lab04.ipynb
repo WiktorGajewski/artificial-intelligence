{
  "nbformat": 4,
  "nbformat_minor": 0,
  "metadata": {
    "colab": {
      "name": "Lab04.ipynb",
      "provenance": [],
      "collapsed_sections": [],
      "authorship_tag": "ABX9TyPV+yZ7/Bt23mJAgHsLpg7v"
    },
    "kernelspec": {
      "name": "python3",
      "display_name": "Python 3"
    }
  },
  "cells": [
    {
      "cell_type": "markdown",
      "metadata": {
        "id": "mt2n3TWDS-tN"
      },
      "source": [
        "# **Laboratorium 4**"
      ]
    },
    {
      "cell_type": "markdown",
      "metadata": {
        "id": "SRcnyNuTTD5a"
      },
      "source": [
        "## Perceptron, problem xor"
      ]
    },
    {
      "cell_type": "markdown",
      "metadata": {
        "id": "wYWTXRi3TU2m"
      },
      "source": [
        "### Zadanie 1"
      ]
    },
    {
      "cell_type": "markdown",
      "metadata": {
        "id": "RmNLr3_wWkgN"
      },
      "source": [
        "Próba rozwiązania problemu xor z wykorzystaniem pojedynczego perceptronu."
      ]
    },
    {
      "cell_type": "code",
      "metadata": {
        "id": "6Ewl6j0bS9ks"
      },
      "source": [
        "import numpy as np\r\n",
        "import matplotlib.pyplot as plt"
      ],
      "execution_count": 76,
      "outputs": []
    },
    {
      "cell_type": "code",
      "metadata": {
        "id": "zvdU8D-mTgcr"
      },
      "source": [
        "x = np.array ([ [0,0],    #dane wejściowe\r\n",
        "                [0,1],\r\n",
        "                [1,0],\r\n",
        "                [1,1] ])\r\n",
        "d = np.array ([ 1,        #wartości oczekiwane\r\n",
        "                0,\r\n",
        "                0,\r\n",
        "                1 ])"
      ],
      "execution_count": 77,
      "outputs": []
    },
    {
      "cell_type": "code",
      "metadata": {
        "id": "V-XWzUpaTmtV"
      },
      "source": [
        "waga=np.random.random(3)  #losowanie wag"
      ],
      "execution_count": 78,
      "outputs": []
    },
    {
      "cell_type": "code",
      "metadata": {
        "colab": {
          "base_uri": "https://localhost:8080/"
        },
        "id": "LmQ8KcQKUQPv",
        "outputId": "ce11b687-880f-4824-ea1e-545563015799"
      },
      "source": [
        "mi=0.1  # współczynnik uczenia perceptoronu\r\n",
        "\r\n",
        "k=100 \r\n",
        "     \r\n",
        "\r\n",
        "## uczenie perceptronu\r\n",
        "for j in range(0,100):\r\n",
        "  f=0\r\n",
        "  for i in range( len(x) ):\r\n",
        "    xx=x[i]\r\n",
        "    dd=d[i]\r\n",
        "\r\n",
        "    s=xx[0]*waga[1] + xx[1]*waga[2] + waga[0]*(-1)\r\n",
        "    if s>=0:\r\n",
        "      y=0\r\n",
        "    else:\r\n",
        "      y=1\r\n",
        "\r\n",
        "    waga[0]=waga[0] + mi*(y-dd)*(-1)    # modyfikacja wag\r\n",
        "    waga[1]=waga[1] + mi*(y-dd)*(xx[0]) #\r\n",
        "    waga[2]=waga[2] + mi*(y-dd)*(xx[1]) #\r\n",
        "\r\n",
        "    if (y-dd)!=0:\r\n",
        "      f+=1; \r\n",
        "\r\n",
        "  if f==0: \r\n",
        "    k=(j+1) \r\n",
        "    break; \r\n",
        "##\r\n",
        "\r\n",
        "print(\"Liczba wykonanych iteracji: \"+str(k)) "
      ],
      "execution_count": 79,
      "outputs": [
        {
          "output_type": "stream",
          "text": [
            "Liczba wykonanych iteracji: 100\n"
          ],
          "name": "stdout"
        }
      ]
    },
    {
      "cell_type": "code",
      "metadata": {
        "colab": {
          "base_uri": "https://localhost:8080/"
        },
        "id": "YGA4vfIHV86s",
        "outputId": "41f6f7f7-8201-43e5-fab2-158ac1cddff3"
      },
      "source": [
        "# efekty uczenia perceptronu\r\n",
        "\r\n",
        "for i in range( len(x) ):\r\n",
        "  xx=x[i]\r\n",
        "  dd=d[i]\r\n",
        "\r\n",
        "  s=xx[0]*waga[1] + xx[1]*waga[2] + waga[0]*(-1)\r\n",
        "  if s>=0:\r\n",
        "    y=0\r\n",
        "  else:\r\n",
        "    y=1\r\n",
        "  \r\n",
        "  print(\" wartość oczekiwana d:\",dd,\"wynik y:\",y)"
      ],
      "execution_count": 80,
      "outputs": [
        {
          "output_type": "stream",
          "text": [
            " wartość oczekiwana d: 1 wynik y: 0\n",
            " wartość oczekiwana d: 0 wynik y: 0\n",
            " wartość oczekiwana d: 0 wynik y: 1\n",
            " wartość oczekiwana d: 1 wynik y: 0\n"
          ],
          "name": "stdout"
        }
      ]
    },
    {
      "cell_type": "code",
      "metadata": {
        "colab": {
          "base_uri": "https://localhost:8080/",
          "height": 269
        },
        "id": "iDEmt-VYWfwr",
        "outputId": "e85188ff-44c7-4dfa-81ce-c83110b780ca"
      },
      "source": [
        "xx=np.arange(-1,3)\r\n",
        "yy=-(waga[1]/waga[2]) * xx + (waga[0]/waga[2])\r\n",
        "plt.plot(xx, yy, 'r--')       #czerwona, przerywana: \r\n",
        "                              #         linia decyzyjna po procesie uczenia\r\n",
        "\r\n",
        "\r\n",
        "for i in range(len(x)):\r\n",
        "  if d[i]==0:\r\n",
        "    plt.plot(x[i,0],x[i,1],'rx')\r\n",
        "  else:\r\n",
        "    plt.plot(x[i,0],x[i,1],'go')\r\n",
        "plt.axis([-1,2,-1,2])\r\n",
        "plt.show()"
      ],
      "execution_count": 81,
      "outputs": [
        {
          "output_type": "display_data",
          "data": {
            "image/png": "[encoded data removed]",
            "text/plain": [
              "<Figure size 432x288 with 1 Axes>"
            ]
          },
          "metadata": {
            "tags": [],
            "needs_background": "light"
          }
        }
      ]
    },
    {
      "cell_type": "markdown",
      "metadata": {
        "id": "kXc4Kl49Xna7"
      },
      "source": [
        "Pojedynczy perceptron nie może rozwiązać problemu xor. <br>\r\n",
        "Ponieważ problem ten nie jest liniowo separowalny."
      ]
    },
    {
      "cell_type": "markdown",
      "metadata": {
        "id": "bHa5USNeYeis"
      },
      "source": [
        "### Zadanie 2"
      ]
    },
    {
      "cell_type": "markdown",
      "metadata": {
        "id": "D07IhCIbYpaA"
      },
      "source": [
        "Przygotowanie dwóch perceptronów p1 i p2."
      ]
    },
    {
      "cell_type": "code",
      "metadata": {
        "id": "leHNOORSc4BD"
      },
      "source": [
        "d1 = np.array ([ 0,     #d1 - próbka dla perceptronu p1\r\n",
        "                 0,\r\n",
        "                 0,\r\n",
        "                 1 ])\r\n",
        "d2 = np.array ([ 1,     #d2 - próbka dla perceptronu p2\r\n",
        "                 0,\r\n",
        "                 0,\r\n",
        "                 0 ])"
      ],
      "execution_count": 82,
      "outputs": []
    },
    {
      "cell_type": "code",
      "metadata": {
        "id": "Y5ESsJQrd4sm"
      },
      "source": [
        "wagaP1=np.random.random(3)  #losowanie wag dla perceptronu p1\r\n",
        "wagaP2=np.random.random(3)  #losowanie wag dla perceptronu p2"
      ],
      "execution_count": 83,
      "outputs": []
    },
    {
      "cell_type": "code",
      "metadata": {
        "id": "Sfw67182nrEI"
      },
      "source": [
        "y1=np.zeros((4), dtype=int) #odpowiedź perceptronu p1\r\n",
        "y2=np.zeros((4), dtype=int) #odpowiedź perceptronu p2"
      ],
      "execution_count": 84,
      "outputs": []
    },
    {
      "cell_type": "code",
      "metadata": {
        "colab": {
          "base_uri": "https://localhost:8080/"
        },
        "id": "rQU6m7AXeAS2",
        "outputId": "573fcd87-0da8-40f7-c6c0-53a32ec4c63c"
      },
      "source": [
        "mi=0.1  # współczynnik uczenia perceptoronu\r\n",
        "\r\n",
        "k=100 \r\n",
        "     \r\n",
        "## uczenie perceptronu p1 i p2\r\n",
        "for j in range(0,100):\r\n",
        "  f=0\r\n",
        "  for i in range( len(x) ):\r\n",
        "    xx=x[i]\r\n",
        "    ddP1=d1[i]\r\n",
        "    ddP2=d2[i]\r\n",
        "\r\n",
        "    sP1=xx[0]*wagaP1[1] + xx[1]*wagaP1[2] + wagaP1[0]*(-1)\r\n",
        "    sP2=xx[0]*wagaP2[1] + xx[1]*wagaP2[2] + wagaP2[0]*(-1)\r\n",
        "\r\n",
        "    if sP1>=0:\r\n",
        "      y1[i]=0\r\n",
        "    else:\r\n",
        "      y1[i]=1\r\n",
        "\r\n",
        "    if sP2>=0:\r\n",
        "      y2[i]=0\r\n",
        "    else:\r\n",
        "      y2[i]=1  \r\n",
        "\r\n",
        "    wagaP1[0]=wagaP1[0] + mi*(y1[i]-ddP1)*(-1)    # modyfikacja wag dla p1\r\n",
        "    wagaP1[1]=wagaP1[1] + mi*(y1[i]-ddP1)*(xx[0]) #\r\n",
        "    wagaP1[2]=wagaP1[2] + mi*(y1[i]-ddP1)*(xx[1]) #\r\n",
        "\r\n",
        "    wagaP2[0]=wagaP2[0] + mi*(y2[i]-ddP2)*(-1)    # modyfikacja wag dla p2\r\n",
        "    wagaP2[1]=wagaP2[1] + mi*(y2[i]-ddP2)*(xx[0]) #\r\n",
        "    wagaP2[2]=wagaP2[2] + mi*(y2[i]-ddP2)*(xx[1]) #\r\n",
        "\r\n",
        "    if (y1[i]-ddP1)!=0 or (y2[i]-ddP2)!=0:\r\n",
        "      f+=1; \r\n",
        "\r\n",
        "  if f==0: \r\n",
        "    k=(j+1) \r\n",
        "    break; \r\n",
        "##\r\n",
        "\r\n",
        "print(\"Liczba wykonanych iteracji: \"+str(k)) "
      ],
      "execution_count": 85,
      "outputs": [
        {
          "output_type": "stream",
          "text": [
            "Liczba wykonanych iteracji: 11\n"
          ],
          "name": "stdout"
        }
      ]
    },
    {
      "cell_type": "code",
      "metadata": {
        "colab": {
          "base_uri": "https://localhost:8080/"
        },
        "id": "tZ9eWg19lTNM",
        "outputId": "0fb48cd1-333d-47af-f652-a3d7b029dbd0"
      },
      "source": [
        "# efekty uczenia perceptronu p1\r\n",
        "\r\n",
        "for i in range( len(x) ): \r\n",
        "  print(\" wartość oczekiwana d:\",d1[i],\"wynik y:\",y1[i])"
      ],
      "execution_count": 86,
      "outputs": [
        {
          "output_type": "stream",
          "text": [
            " wartość oczekiwana d: 0 wynik y: 0\n",
            " wartość oczekiwana d: 0 wynik y: 0\n",
            " wartość oczekiwana d: 0 wynik y: 0\n",
            " wartość oczekiwana d: 1 wynik y: 1\n"
          ],
          "name": "stdout"
        }
      ]
    },
    {
      "cell_type": "code",
      "metadata": {
        "colab": {
          "base_uri": "https://localhost:8080/"
        },
        "id": "-8Egd98PmDYS",
        "outputId": "f697498a-59f6-44d8-db02-949bc1aa9e23"
      },
      "source": [
        "# efekty uczenia perceptronu p2\r\n",
        "\r\n",
        "for i in range( len(x) ):\r\n",
        "  print(\" wartość oczekiwana d:\",d2[i],\"wynik y:\",y2[i])"
      ],
      "execution_count": 87,
      "outputs": [
        {
          "output_type": "stream",
          "text": [
            " wartość oczekiwana d: 1 wynik y: 1\n",
            " wartość oczekiwana d: 0 wynik y: 0\n",
            " wartość oczekiwana d: 0 wynik y: 0\n",
            " wartość oczekiwana d: 0 wynik y: 0\n"
          ],
          "name": "stdout"
        }
      ]
    },
    {
      "cell_type": "code",
      "metadata": {
        "colab": {
          "base_uri": "https://localhost:8080/",
          "height": 269
        },
        "id": "VdoSxj5NnCIp",
        "outputId": "d943fec5-5dc4-4f80-baa6-4ff0c60d9bdb"
      },
      "source": [
        "#linie decyzyjne\r\n",
        "xx=np.arange(-1,3)\r\n",
        "yyP1=-(wagaP1[1]/wagaP1[2]) * xx + (wagaP1[0]/wagaP1[2])\r\n",
        "plt.plot(xx, yyP1, 'r-')        #czerwona, ciagłą: \r\n",
        "                                #         linia decyzyjna perceptronu p1\r\n",
        "\r\n",
        "yyP2=-(wagaP2[1]/wagaP2[2]) * xx + (wagaP2[0]/wagaP2[2])\r\n",
        "plt.plot(xx, yyP2, 'b-')        #niebieska, ciagłą: \r\n",
        "                                #         linia decyzyjna perceptronu p2\r\n",
        "\r\n",
        "for i in range(len(x)):\r\n",
        "  if d[i]==0:\r\n",
        "    plt.plot(x[i,0],x[i,1],'rx')\r\n",
        "  else:\r\n",
        "    plt.plot(x[i,0],x[i,1],'go')\r\n",
        "plt.axis([-1,2,-1,2])\r\n",
        "plt.show()"
      ],
      "execution_count": 88,
      "outputs": [
        {
          "output_type": "display_data",
          "data": {
            "image/png": "[encoded data removed]",
            "text/plain": [
              "<Figure size 432x288 with 1 Axes>"
            ]
          },
          "metadata": {
            "tags": [],
            "needs_background": "light"
          }
        }
      ]
    },
    {
      "cell_type": "markdown",
      "metadata": {
        "id": "W8JBEUiSqgjx"
      },
      "source": [
        "### Zadanie 3"
      ]
    },
    {
      "cell_type": "markdown",
      "metadata": {
        "id": "B4L2T1twqjNa"
      },
      "source": [
        "Przygotowanie perceptronu p3, którego danymi wejściowymi będą współrzędne (y1,y2). <br>\r\n",
        "y1 - wyjście perceptronu p1 <br>\r\n",
        "y2 - wyjście perceptronu p2"
      ]
    },
    {
      "cell_type": "code",
      "metadata": {
        "id": "D-RlZvU-rL-s"
      },
      "source": [
        "wagaP3=np.random.random(3)  #losowanie wag perceptronu p3"
      ],
      "execution_count": 89,
      "outputs": []
    },
    {
      "cell_type": "code",
      "metadata": {
        "colab": {
          "base_uri": "https://localhost:8080/"
        },
        "id": "oMv0-iUxsNAN",
        "outputId": "e5244d0c-cee0-4bd9-a1be-5a9f6f7f3c1f"
      },
      "source": [
        "mi=0.1  # współczynnik uczenia perceptoronu\r\n",
        "\r\n",
        "k=100 \r\n",
        "     \r\n",
        "## uczenie perceptronu\r\n",
        "for j in range(0,100):\r\n",
        "  f=0\r\n",
        "  for i in range( len(d) ):\r\n",
        "    yy1=y1[i]\r\n",
        "    yy2=y2[i]\r\n",
        "    dd=d[i]\r\n",
        "\r\n",
        "    s=yy1*wagaP3[1] + yy2*wagaP3[2] + wagaP3[0]*(-1)\r\n",
        "    if s>=0:\r\n",
        "      y=0\r\n",
        "    else:\r\n",
        "      y=1\r\n",
        "\r\n",
        "    wagaP3[0]=wagaP3[0] + mi*(y-dd)*(-1)    # modyfikacja wag dla p3\r\n",
        "    wagaP3[1]=wagaP3[1] + mi*(y-dd)*(yy1)   #\r\n",
        "    wagaP3[2]=wagaP3[2] + mi*(y-dd)*(yy2)   #\r\n",
        "\r\n",
        "    if (y-dd)!=0:\r\n",
        "      f+=1; \r\n",
        "\r\n",
        "  if f==0: \r\n",
        "    k=(j+1) \r\n",
        "    break; \r\n",
        "##\r\n",
        "\r\n",
        "print(\"Liczba wykonanych iteracji: \"+str(k)) "
      ],
      "execution_count": 90,
      "outputs": [
        {
          "output_type": "stream",
          "text": [
            "Liczba wykonanych iteracji: 8\n"
          ],
          "name": "stdout"
        }
      ]
    },
    {
      "cell_type": "code",
      "metadata": {
        "colab": {
          "base_uri": "https://localhost:8080/"
        },
        "id": "RwzOwMzntTeO",
        "outputId": "c65483f4-968f-4376-c9a5-7194ee65c2cd"
      },
      "source": [
        "# efekty uczenia perceptronu p3\r\n",
        "\r\n",
        "for i in range( len(x) ):\r\n",
        "  yy1=y1[i]\r\n",
        "  yy2=y2[i]\r\n",
        "  dd=d[i]\r\n",
        "\r\n",
        "  s=yy1*wagaP3[1] + yy2*wagaP3[2] + wagaP3[0]*(-1)\r\n",
        "  if s>=0:\r\n",
        "    y=0\r\n",
        "  else:\r\n",
        "    y=1\r\n",
        "  \r\n",
        "  print(\" wartość oczekiwana d:\",dd,\"wynik y:\",y)"
      ],
      "execution_count": 91,
      "outputs": [
        {
          "output_type": "stream",
          "text": [
            " wartość oczekiwana d: 1 wynik y: 1\n",
            " wartość oczekiwana d: 0 wynik y: 0\n",
            " wartość oczekiwana d: 0 wynik y: 0\n",
            " wartość oczekiwana d: 1 wynik y: 1\n"
          ],
          "name": "stdout"
        }
      ]
    },
    {
      "cell_type": "code",
      "metadata": {
        "colab": {
          "base_uri": "https://localhost:8080/",
          "height": 269
        },
        "id": "6aSq3Z1K3k3U",
        "outputId": "1d5d844a-9fa2-42e6-f0c9-870108379d70"
      },
      "source": [
        "xx=np.arange(-1,3)\r\n",
        "yyP3=-(wagaP3[1]/wagaP3[2]) * xx + (wagaP3[0]/wagaP3[2])\r\n",
        "plt.plot(xx, yyP3, 'g-')        #zieloną, ciagłą: \r\n",
        "                                #         linia decyzyjna perceptronu p3\r\n",
        "\r\n",
        "for i in range(len(x)):\r\n",
        "  if d[i]==0:\r\n",
        "    plt.plot(y1[i],y2[i],'rx')\r\n",
        "  else:\r\n",
        "    plt.plot(y1[i],y2[i],'go')\r\n",
        "plt.axis([-1,2,-1,2])\r\n",
        "plt.show()"
      ],
      "execution_count": 92,
      "outputs": [
        {
          "output_type": "display_data",
          "data": {
            "image/png": "[encoded data removed]",
            "text/plain": [
              "<Figure size 432x288 with 1 Axes>"
            ]
          },
          "metadata": {
            "tags": [],
            "needs_background": "light"
          }
        }
      ]
    },
    {
      "cell_type": "markdown",
      "metadata": {
        "id": "QUWvhzCN4G-2"
      },
      "source": [
        "### Zadanie 4"
      ]
    },
    {
      "cell_type": "markdown",
      "metadata": {
        "id": "eP-2oIkP4I_V"
      },
      "source": [
        "Połączenie perceptronów p1, p2 i p3 w jedną sieć."
      ]
    },
    {
      "cell_type": "code",
      "metadata": {
        "colab": {
          "base_uri": "https://localhost:8080/"
        },
        "id": "TNHkTjHD6_O1",
        "outputId": "64547357-cfb3-40b9-a052-d3e68dd9362c"
      },
      "source": [
        "# efekty uczenia sieci neuronowej (złożonej z perceptronów p1,p2,p3)\r\n",
        "\r\n",
        "for i in range( len(x) ):\r\n",
        "  xx=x[i] #dane wejściowe perceptronów p1 i p2\r\n",
        "  dd=d[i] #wartość oczekiwana dla całej sieci\r\n",
        "\r\n",
        "  sP1=xx[0]*wagaP1[1] + xx[1]*wagaP1[2] + wagaP1[0]*(-1)  #perceptron p1\r\n",
        "  \r\n",
        "  if sP1>=0:\r\n",
        "    yy1=0\r\n",
        "  else:\r\n",
        "    yy1=1                                                 #\r\n",
        "\r\n",
        "  sP2=xx[0]*wagaP2[1] + xx[1]*wagaP2[2] + wagaP2[0]*(-1)  #perceptron p2\r\n",
        "\r\n",
        "  if sP2>=0:\r\n",
        "    yy2=0\r\n",
        "  else:\r\n",
        "    yy2=1                                                 #\r\n",
        "\r\n",
        "  s=yy1*wagaP3[1] + yy2*wagaP3[2] + wagaP3[0]*(-1)        #perceptron p3\r\n",
        "  if s>=0:\r\n",
        "    y=0\r\n",
        "  else:\r\n",
        "    y=1                                                   #\r\n",
        "  \r\n",
        "  print(\" wartość oczekiwana d:\",dd,\"wynik y:\",y)"
      ],
      "execution_count": 93,
      "outputs": [
        {
          "output_type": "stream",
          "text": [
            " wartość oczekiwana d: 1 wynik y: 1\n",
            " wartość oczekiwana d: 0 wynik y: 0\n",
            " wartość oczekiwana d: 0 wynik y: 0\n",
            " wartość oczekiwana d: 1 wynik y: 1\n"
          ],
          "name": "stdout"
        }
      ]
    },
    {
      "cell_type": "code",
      "metadata": {
        "colab": {
          "base_uri": "https://localhost:8080/",
          "height": 265
        },
        "id": "DiDl1csy9hu0",
        "outputId": "593dc9c1-0210-4f63-99e4-81ae859f02db"
      },
      "source": [
        "# efekty uczenia sieci neuronowej (złożonej z perceptronów p1,p2,p3)\r\n",
        "\r\n",
        "for i in range( len(x) ):\r\n",
        "  xx=x[i] #dane wejściowe perceptronów p1 i p2\r\n",
        "\r\n",
        "  sP1=xx[0]*wagaP1[1] + xx[1]*wagaP1[2] + wagaP1[0]*(-1)  #perceptron p1\r\n",
        "  \r\n",
        "  if sP1>=0:\r\n",
        "    yy1=0\r\n",
        "  else:\r\n",
        "    yy1=1                                                 #\r\n",
        "\r\n",
        "  sP2=xx[0]*wagaP2[1] + xx[1]*wagaP2[2] + wagaP2[0]*(-1)  #perceptron p2\r\n",
        "\r\n",
        "  if sP2>=0:\r\n",
        "    yy2=0\r\n",
        "  else:\r\n",
        "    yy2=1                                                 #\r\n",
        "\r\n",
        "  s=yy1*wagaP3[1] + yy2*wagaP3[2] + wagaP3[0]*(-1)        #perceptron p3\r\n",
        "  if s>=0:\r\n",
        "    y=0\r\n",
        "  else:\r\n",
        "    y=1                                                   #\r\n",
        "  \r\n",
        "  \r\n",
        "  if y==0:                                                #wyświetlenie wyników\r\n",
        "    plt.plot(xx[0],xx[1],'rx')                            \r\n",
        "  else:\r\n",
        "    plt.plot(xx[0],xx[1],'go')\r\n",
        "\r\n",
        "plt.axis([-0.1,1.1,-0.1,1.1])\r\n",
        "plt.show()"
      ],
      "execution_count": 94,
      "outputs": [
        {
          "output_type": "display_data",
          "data": {
            "image/png": "[encoded data removed]",
            "text/plain": [
              "<Figure size 432x288 with 1 Axes>"
            ]
          },
          "metadata": {
            "tags": [],
            "needs_background": "light"
          }
        }
      ]
    }
  ]
}