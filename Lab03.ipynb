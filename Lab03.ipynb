{
  "nbformat": 4,
  "nbformat_minor": 0,
  "metadata": {
    "colab": {
      "name": "Lab03.ipynb",
      "provenance": [],
      "authorship_tag": "ABX9TyNL/oHlXguE4O0XvG5NCJMH",
      "include_colab_link": true
    },
    "kernelspec": {
      "name": "python3",
      "display_name": "Python 3"
    }
  },
  "cells": [
    {
      "cell_type": "markdown",
      "metadata": {
        "id": "view-in-github",
        "colab_type": "text"
      },
      "source": [
        "<a href=\"https://colab.research.google.com/github/WiktorGajewski/artificial-intelligence/blob/main/Lab03.ipynb\" target=\"_parent\"><img src=\"https://colab.research.google.com/assets/colab-badge.svg\" alt=\"Open In Colab\"/></a>"
      ]
    },
    {
      "cell_type": "markdown",
      "metadata": {
        "id": "czDI_HHXttIC"
      },
      "source": [
        "Sieć jednowarstwowa - uczenie i testowanie sieci"
      ]
    },
    {
      "cell_type": "code",
      "metadata": {
        "id": "N5P2J1NCxbao"
      },
      "source": [
        "import numpy as np"
      ],
      "execution_count": 1,
      "outputs": []
    },
    {
      "cell_type": "code",
      "metadata": {
        "id": "riv3PgmgxcHm"
      },
      "source": [
        "x=np.array([ [0,0],\n",
        "             [0,1],\n",
        "             [1,0],\n",
        "             [1,1] ])\n",
        "d=np.array([0,\n",
        "            0,\n",
        "            0,\n",
        "            1])"
      ],
      "execution_count": 4,
      "outputs": []
    },
    {
      "cell_type": "code",
      "metadata": {
        "id": "E18o2GDgxuyb"
      },
      "source": [
        "w=np.random.random(3)"
      ],
      "execution_count": 101,
      "outputs": []
    },
    {
      "cell_type": "code",
      "metadata": {
        "colab": {
          "base_uri": "https://localhost:8080/"
        },
        "id": "cfNXD8OnyxU1",
        "outputId": "8ea3514b-cfff-4e47-c04a-b8c0a59d4b57"
      },
      "source": [
        "mi=0.1\n",
        "for i in range( len(x) ):\n",
        "  xx=x[i]\n",
        "  dd=d[i]\n",
        "\n",
        "  s=xx[0]*w[1] + xx[1]*w[2] + w[0]*(-1)\n",
        "  if s>=0:\n",
        "    y=0\n",
        "  else:\n",
        "    y=1\n",
        "\n",
        "  w[0]=w[0] + mi*(y-dd)*(-1)\n",
        "  w[1]=w[1] + mi*(y-dd)*(xx[0])\n",
        "  w[2]=w[2] + mi*(y-dd)*(xx[1])\n",
        "\n",
        "  print(\"x1:\",xx[0],\"x2:\",xx[1],\" d:\",dd,\" y:\",y)"
      ],
      "execution_count": 120,
      "outputs": [
        {
          "output_type": "stream",
          "text": [
            "x1: 0 x2: 0  d: 0  y: 0\n",
            "x1: 0 x2: 1  d: 0  y: 0\n",
            "x1: 1 x2: 0  d: 0  y: 0\n",
            "x1: 1 x2: 1  d: 1  y: 1\n"
          ],
          "name": "stdout"
        }
      ]
    }
  ]
}