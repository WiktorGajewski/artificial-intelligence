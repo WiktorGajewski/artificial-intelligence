{
  "nbformat": 4,
  "nbformat_minor": 0,
  "metadata": {
    "colab": {
      "name": "Lab03.ipynb",
      "provenance": [],
      "authorship_tag": "ABX9TyPRsE/zJTw+AKYqkY8Wd7eq"
    },
    "kernelspec": {
      "name": "python3",
      "display_name": "Python 3"
    }
  },
  "cells": [
    {
      "cell_type": "markdown",
      "metadata": {
        "id": "czDI_HHXttIC"
      },
      "source": [
        "Sieć jednowarstwowa - uczenie i testowanie sieci"
      ]
    },
    {
      "cell_type": "code",
      "metadata": {
        "id": "N5P2J1NCxbao"
      },
      "source": [
        "import numpy as np\n",
        "import matplotlib.pyplot as plt"
      ],
      "execution_count": 148,
      "outputs": []
    },
    {
      "cell_type": "code",
      "metadata": {
        "id": "riv3PgmgxcHm"
      },
      "source": [
        "x=np.array([ [0,0],\n",
        "             [0,1],\n",
        "             [1,0],\n",
        "             [1,1] ])\n",
        "d=np.array([0,\n",
        "            0,\n",
        "            0,\n",
        "            1])"
      ],
      "execution_count": 4,
      "outputs": []
    },
    {
      "cell_type": "code",
      "metadata": {
        "id": "lY8b8BROFcPZ"
      },
      "source": [
        "xxP=np.arange(-1,3)\n",
        "yyP=-(w[1]/w[2]) * xx + (w[0]/w[2])\n"
      ],
      "execution_count": 167,
      "outputs": []
    },
    {
      "cell_type": "code",
      "metadata": {
        "id": "E18o2GDgxuyb"
      },
      "source": [
        "w=np.random.random(3)"
      ],
      "execution_count": 166,
      "outputs": []
    },
    {
      "cell_type": "code",
      "metadata": {
        "colab": {
          "base_uri": "https://localhost:8080/"
        },
        "id": "cfNXD8OnyxU1",
        "outputId": "381879a7-cd29-4567-9b3b-3ee6ed92e953"
      },
      "source": [
        "mi=0.1\n",
        "for i in range( len(x) ):\n",
        "  xx=x[i]\n",
        "  dd=d[i]\n",
        "\n",
        "  s=xx[0]*w[1] + xx[1]*w[2] + w[0]*(-1)\n",
        "  if s>=0:\n",
        "    y=0\n",
        "  else:\n",
        "    y=1\n",
        "\n",
        "  w[0]=w[0] + mi*(y-dd)*(-1)\n",
        "  w[1]=w[1] + mi*(y-dd)*(xx[0])\n",
        "  w[2]=w[2] + mi*(y-dd)*(xx[1])\n",
        "\n",
        "  print(\"x1:\",xx[0],\"x2:\",xx[1],\" d:\",dd,\" y:\",y)"
      ],
      "execution_count": 179,
      "outputs": [
        {
          "output_type": "stream",
          "text": [
            "x1: 0 x2: 0  d: 0  y: 0\n",
            "x1: 0 x2: 1  d: 0  y: 0\n",
            "x1: 1 x2: 0  d: 0  y: 0\n",
            "x1: 1 x2: 1  d: 1  y: 1\n"
          ],
          "name": "stdout"
        }
      ]
    },
    {
      "cell_type": "code",
      "metadata": {
        "colab": {
          "base_uri": "https://localhost:8080/",
          "height": 265
        },
        "id": "PjK5WRHhEXsC",
        "outputId": "5f3034fe-5aa3-4475-a89f-73d87bdfd475"
      },
      "source": [
        "xx=np.arange(-1,3)\n",
        "yy=-(w[1]/w[2]) * xx + (w[0]/w[2])\n",
        "plt.plot(xx, yy, 'r-')\n",
        "plt.plot(xxP, yyP, 'b-')\n",
        "\n",
        "for i in range(len(x)):\n",
        "  if d[i]==0:\n",
        "    plt.plot(x[i,0],x[i,1],'ko')\n",
        "  else:\n",
        "    plt.plot(x[i,0],x[i,1],'m*')"
      ],
      "execution_count": 180,
      "outputs": [
        {
          "output_type": "display_data",
          "data": {
            "image/png": "[encoded data removed]",
            "text/plain": [
              "<Figure size 432x288 with 1 Axes>"
            ]
          },
          "metadata": {
            "tags": [],
            "needs_background": "light"
          }
        }
      ]
    }
  ]
}