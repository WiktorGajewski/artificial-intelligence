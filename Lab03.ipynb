{
  "nbformat": 4,
  "nbformat_minor": 0,
  "metadata": {
    "colab": {
      "name": "Lab03.ipynb",
      "provenance": [],
      "collapsed_sections": [],
      "authorship_tag": "ABX9TyP2uiVLwYObA7zbIlMf0X7Q"
    },
    "kernelspec": {
      "name": "python3",
      "display_name": "Python 3"
    }
  },
  "cells": [
    {
      "cell_type": "markdown",
      "metadata": {
        "id": "Z0fpzr-9ZVxj"
      },
      "source": [
        "# **Laboratorium 3**"
      ]
    },
    {
      "cell_type": "markdown",
      "metadata": {
        "id": "czDI_HHXttIC"
      },
      "source": [
        "## Sieć jednowarstwowa - uczenie i testowanie sieci"
      ]
    },
    {
      "cell_type": "markdown",
      "metadata": {
        "id": "zhwSAaDozhF8"
      },
      "source": [
        "### Zadanie 1 - wczytanie danych"
      ]
    },
    {
      "cell_type": "code",
      "metadata": {
        "id": "MEnnSvptzklW"
      },
      "source": [
        "import numpy as np\n",
        "import matplotlib.pyplot as plt"
      ],
      "execution_count": 1,
      "outputs": []
    },
    {
      "cell_type": "code",
      "metadata": {
        "id": "Fql2VszJzrbU"
      },
      "source": [
        "x=np.array([ [-9,-5],\n",
        "             [-8,-2],\n",
        "             [-6,-5],\n",
        "             [-5,-2],\n",
        "             [-3,-3],\n",
        "             [-3,-6],\n",
        "             [-2,-4],\n",
        "             [-1,-3],\n",
        "             [1,1],\n",
        "             [2,-6],\n",
        "             [3,-2],\n",
        "             [4,2],\n",
        "             [4,-3],\n",
        "             [4,-5],\n",
        "             [4,-8],\n",
        "             [6,-4],\n",
        "             [8,2],\n",
        "             [8,-5],\n",
        "             [9,-1],\n",
        "             [-9,8],\n",
        "             [-9,2],\n",
        "             [-8,4],\n",
        "             [-7,6],\n",
        "             [-5,8],\n",
        "             [-5,4],\n",
        "             [-5,1],\n",
        "             [-3,9],\n",
        "             [-2,7],\n",
        "             [-2,5],\n",
        "             [-2,2],\n",
        "             [1,7],\n",
        "             [2,9],\n",
        "             [2,6],\n",
        "             [4,4],\n",
        "             [5,7],\n",
        "             [7,9],\n",
        "             [7,6],\n",
        "             [7,4],\n",
        "             [9,8],\n",
        "             [9,5], ])\n",
        "d=np.array([0,\n",
        "            0,\n",
        "            0,\n",
        "            0,\n",
        "            0,\n",
        "            0,\n",
        "            0,\n",
        "            0,\n",
        "            0,\n",
        "            0,\n",
        "            0,\n",
        "            0,\n",
        "            0,\n",
        "            0,\n",
        "            0,\n",
        "            0,\n",
        "            0,\n",
        "            0,\n",
        "            0,\n",
        "            1,\n",
        "            1,\n",
        "            1,\n",
        "            1,\n",
        "            1,\n",
        "            1,\n",
        "            1,\n",
        "            1,\n",
        "            1,\n",
        "            1,\n",
        "            1,\n",
        "            1,\n",
        "            1,\n",
        "            1,\n",
        "            1,\n",
        "            1,\n",
        "            1,\n",
        "            1,\n",
        "            1,\n",
        "            1,\n",
        "            1,])"
      ],
      "execution_count": 2,
      "outputs": []
    },
    {
      "cell_type": "code",
      "metadata": {
        "colab": {
          "base_uri": "https://localhost:8080/"
        },
        "id": "hJUpOPve3KvT",
        "outputId": "2fd038df-3391-4e14-86a7-d0c2c36d1bf8"
      },
      "source": [
        "print(x.shape)"
      ],
      "execution_count": 3,
      "outputs": [
        {
          "output_type": "stream",
          "text": [
            "(40, 2)\n"
          ],
          "name": "stdout"
        }
      ]
    },
    {
      "cell_type": "code",
      "metadata": {
        "colab": {
          "base_uri": "https://localhost:8080/"
        },
        "id": "Q_cV4Ihu3ane",
        "outputId": "42c7abb2-3efb-4e5e-b35a-b5a890a199f8"
      },
      "source": [
        "print(d.size)"
      ],
      "execution_count": 4,
      "outputs": [
        {
          "output_type": "stream",
          "text": [
            "40\n"
          ],
          "name": "stdout"
        }
      ]
    },
    {
      "cell_type": "markdown",
      "metadata": {
        "id": "jGDInWVczSmd"
      },
      "source": [
        "### Zadanie 2 - prezentacja danych"
      ]
    },
    {
      "cell_type": "code",
      "metadata": {
        "colab": {
          "base_uri": "https://localhost:8080/",
          "height": 269
        },
        "id": "zJbR1UpBzaJq",
        "outputId": "39fd691b-c0e3-4abd-cc9c-da400aa2df7c"
      },
      "source": [
        "for i in range(len(x)):\n",
        "  if d[i]==0:\n",
        "    plt.plot(x[i,0],x[i,1],'rx')  #kategoria zer\n",
        "  else:\n",
        "    plt.plot(x[i,0],x[i,1],'go')  #kategoria jedynek\n",
        "plt.axis([-10,10,-10,10])\n",
        "plt.show()"
      ],
      "execution_count": 5,
      "outputs": [
        {
          "output_type": "display_data",
          "data": {
            "image/png": "[encoded data removed]",
            "text/plain": [
              "<Figure size 432x288 with 1 Axes>"
            ]
          },
          "metadata": {
            "tags": [],
            "needs_background": "light"
          }
        }
      ]
    },
    {
      "cell_type": "markdown",
      "metadata": {
        "id": "noRxrk6y6U4Y"
      },
      "source": [
        "### Zadanie 3 - uczenie perceptronu"
      ]
    },
    {
      "cell_type": "code",
      "metadata": {
        "id": "CsSceQmC6X10"
      },
      "source": [
        "waga=np.random.random(3)  #losowane są 3 wagi: \n",
        "                          # -waga[0] - wartość progowa perceptronu\n",
        "                          # -waga[1] waga wejścia x\n",
        "                          # -waga[2] waga wejścia y"
      ],
      "execution_count": 6,
      "outputs": []
    },
    {
      "cell_type": "code",
      "metadata": {
        "colab": {
          "base_uri": "https://localhost:8080/",
          "height": 269
        },
        "id": "NJnlPrpL60Yo",
        "outputId": "478bac84-7c4a-409b-9cbb-b1ef987d98b8"
      },
      "source": [
        "xxPre=np.arange(-10,11)\n",
        "yyPre=-(waga[1]/waga[2]) * xxPre + (waga[0]/waga[2])  # linia decyzyjna przed \n",
        "                                                      # procesem uczenia\n",
        "                                                    \n",
        "plt.plot(xxPre, yyPre, 'b--')\n",
        "plt.axis([-10,10,-10,10])\n",
        "plt.show()"
      ],
      "execution_count": 7,
      "outputs": [
        {
          "output_type": "display_data",
          "data": {
            "image/png": "[encoded data removed]",
            "text/plain": [
              "<Figure size 432x288 with 1 Axes>"
            ]
          },
          "metadata": {
            "tags": [],
            "needs_background": "light"
          }
        }
      ]
    },
    {
      "cell_type": "code",
      "metadata": {
        "id": "B0XDRz5D-9Ej"
      },
      "source": [
        "yyPre=-(waga[1]/waga[2]) * xxPre + (waga[0]/waga[2])  # linia decyzyjna przed \n",
        "                                                      # procesem uczenia"
      ],
      "execution_count": 8,
      "outputs": []
    },
    {
      "cell_type": "code",
      "metadata": {
        "colab": {
          "base_uri": "https://localhost:8080/"
        },
        "id": "bOqUFmjg_PRP",
        "outputId": "66c5e20c-d02a-432a-b18d-12c89fff2a82"
      },
      "source": [
        "mi=0.1  # współczynnik uczenia perceptoronu\n",
        "\n",
        "k=100 #licznik wykonanych iteracji  ;zadanie 4a\n",
        "      #domyślnie 100 - liczba iteracji pętli for\n",
        "\n",
        "## uczenie perceptronu\n",
        "for j in range(0,100):\n",
        "  f=0 # licznik błędów ;zadanie 4a\n",
        "  for i in range( len(x) ):\n",
        "    xx=x[i]\n",
        "    dd=d[i]\n",
        "\n",
        "    s=xx[0]*waga[1] + xx[1]*waga[2] + waga[0]*(-1)\n",
        "    if s>=0:\n",
        "      y=0\n",
        "    else:\n",
        "      y=1\n",
        "\n",
        "    waga[0]=waga[0] + mi*(y-dd)*(-1)    # modyfikacja wag\n",
        "    waga[1]=waga[1] + mi*(y-dd)*(xx[0]) #\n",
        "    waga[2]=waga[2] + mi*(y-dd)*(xx[1]) #\n",
        "\n",
        "    if (y-dd)!=0: #jeśli wykryto błąd ;zadanie 4a\n",
        "      f+=1;        #zwiększ licznik błędów o 1\n",
        "\n",
        "  if f==0:  #jeśli w całym komplecie nie wykryto błędów ;zadanie 4a\n",
        "    k=(j+1) #zapisz liczbę wykonanych iteracji\n",
        "    break;  #przerwij wykonywanie pętli\n",
        "##\n",
        "\n",
        "print(\"Liczba wykonanych iteracji: \"+str(k)) #zadanie 4a\n"
      ],
      "execution_count": 9,
      "outputs": [
        {
          "output_type": "stream",
          "text": [
            "Liczba wykonanych iteracji: 8\n"
          ],
          "name": "stdout"
        }
      ]
    },
    {
      "cell_type": "code",
      "metadata": {
        "colab": {
          "base_uri": "https://localhost:8080/"
        },
        "id": "LW_zCkM-A7PM",
        "outputId": "52be7dce-9444-4d56-c42c-942472b03ec6"
      },
      "source": [
        "# efekty uczenia perceptronu\n",
        "\n",
        "for i in range( len(x) ):\n",
        "  xx=x[i]\n",
        "  dd=d[i]\n",
        "\n",
        "  s=xx[0]*waga[1] + xx[1]*waga[2] + waga[0]*(-1)\n",
        "  if s>=0:\n",
        "    y=0\n",
        "  else:\n",
        "    y=1\n",
        "  \n",
        "  print(\" wartość oczekiwana d:\",dd,\"wynik y:\",y)\n"
      ],
      "execution_count": 10,
      "outputs": [
        {
          "output_type": "stream",
          "text": [
            " wartość oczekiwana d: 0 wynik y: 0\n",
            " wartość oczekiwana d: 0 wynik y: 0\n",
            " wartość oczekiwana d: 0 wynik y: 0\n",
            " wartość oczekiwana d: 0 wynik y: 0\n",
            " wartość oczekiwana d: 0 wynik y: 0\n",
            " wartość oczekiwana d: 0 wynik y: 0\n",
            " wartość oczekiwana d: 0 wynik y: 0\n",
            " wartość oczekiwana d: 0 wynik y: 0\n",
            " wartość oczekiwana d: 0 wynik y: 0\n",
            " wartość oczekiwana d: 0 wynik y: 0\n",
            " wartość oczekiwana d: 0 wynik y: 0\n",
            " wartość oczekiwana d: 0 wynik y: 0\n",
            " wartość oczekiwana d: 0 wynik y: 0\n",
            " wartość oczekiwana d: 0 wynik y: 0\n",
            " wartość oczekiwana d: 0 wynik y: 0\n",
            " wartość oczekiwana d: 0 wynik y: 0\n",
            " wartość oczekiwana d: 0 wynik y: 0\n",
            " wartość oczekiwana d: 0 wynik y: 0\n",
            " wartość oczekiwana d: 0 wynik y: 0\n",
            " wartość oczekiwana d: 1 wynik y: 1\n",
            " wartość oczekiwana d: 1 wynik y: 1\n",
            " wartość oczekiwana d: 1 wynik y: 1\n",
            " wartość oczekiwana d: 1 wynik y: 1\n",
            " wartość oczekiwana d: 1 wynik y: 1\n",
            " wartość oczekiwana d: 1 wynik y: 1\n",
            " wartość oczekiwana d: 1 wynik y: 1\n",
            " wartość oczekiwana d: 1 wynik y: 1\n",
            " wartość oczekiwana d: 1 wynik y: 1\n",
            " wartość oczekiwana d: 1 wynik y: 1\n",
            " wartość oczekiwana d: 1 wynik y: 1\n",
            " wartość oczekiwana d: 1 wynik y: 1\n",
            " wartość oczekiwana d: 1 wynik y: 1\n",
            " wartość oczekiwana d: 1 wynik y: 1\n",
            " wartość oczekiwana d: 1 wynik y: 1\n",
            " wartość oczekiwana d: 1 wynik y: 1\n",
            " wartość oczekiwana d: 1 wynik y: 1\n",
            " wartość oczekiwana d: 1 wynik y: 1\n",
            " wartość oczekiwana d: 1 wynik y: 1\n",
            " wartość oczekiwana d: 1 wynik y: 1\n",
            " wartość oczekiwana d: 1 wynik y: 1\n"
          ],
          "name": "stdout"
        }
      ]
    },
    {
      "cell_type": "code",
      "metadata": {
        "colab": {
          "base_uri": "https://localhost:8080/",
          "height": 269
        },
        "id": "UwJcHncXDFd3",
        "outputId": "3988a807-08f9-479f-a191-a15ffcbec58e"
      },
      "source": [
        "#wyświetlenie linii decyzyjnej\n",
        "xx=np.arange(-10,11)\n",
        "yy=-(waga[1]/waga[2]) * xx + (waga[0]/waga[2])\n",
        "plt.plot(xx, yy, 'r-')      #czerwona, ciągła: \n",
        "                            #         linia decyzyjna po procesie uczenia\n",
        "\n",
        "plt.plot(xx, yyPre, 'b--')  #niebieska, przerywana:\n",
        "                            #         linia decyzyjna przed procesem uczenia\n",
        "\n",
        "for i in range(len(x)):\n",
        "  if d[i]==0:\n",
        "    plt.plot(x[i,0],x[i,1],'rx')\n",
        "  else:\n",
        "    plt.plot(x[i,0],x[i,1],'go')\n",
        "plt.axis([-10,10,-10,10])\n",
        "plt.show()"
      ],
      "execution_count": 11,
      "outputs": [
        {
          "output_type": "display_data",
          "data": {
            "image/png": "[encoded data removed]",
            "text/plain": [
              "<Figure size 432x288 with 1 Axes>"
            ]
          },
          "metadata": {
            "tags": [],
            "needs_background": "light"
          }
        }
      ]
    },
    {
      "cell_type": "markdown",
      "metadata": {
        "id": "PjjHQAfDPGKr"
      },
      "source": [
        "### Zadanie 4b - testowanie perceptronu"
      ]
    },
    {
      "cell_type": "code",
      "metadata": {
        "id": "NibBY_b8ParK"
      },
      "source": [
        "#dodanie 3 nowych punktów, których perceptron nie został nauczony\n",
        "xNew=np.array([ [-1,-1],\n",
        "                [9,3],\n",
        "                [1,3] ])\n",
        "\n",
        "dNew=np.array([ 0,\n",
        "                0,\n",
        "                1 ])"
      ],
      "execution_count": 12,
      "outputs": []
    },
    {
      "cell_type": "code",
      "metadata": {
        "colab": {
          "base_uri": "https://localhost:8080/"
        },
        "id": "hEUmEE_6RkfM",
        "outputId": "5b5fc382-52e5-4ab5-b68a-419cda076a7f"
      },
      "source": [
        "# sprawdzenie perceptronu, dla 3 nowych punktów\n",
        "\n",
        "for i in range( len(xNew) ):\n",
        "  xx=xNew[i]\n",
        "  dd=dNew[i]\n",
        "\n",
        "  s=xx[0]*waga[1] + xx[1]*waga[2] + waga[0]*(-1)\n",
        "  if s>=0:\n",
        "    y=0\n",
        "  else:\n",
        "    y=1\n",
        "  \n",
        "  print(\" wartość oczekiwana d:\",dd,\"   wynik y:\",y)"
      ],
      "execution_count": 13,
      "outputs": [
        {
          "output_type": "stream",
          "text": [
            " wartość oczekiwana d: 0    wynik y: 0\n",
            " wartość oczekiwana d: 0    wynik y: 0\n",
            " wartość oczekiwana d: 1    wynik y: 1\n"
          ],
          "name": "stdout"
        }
      ]
    },
    {
      "cell_type": "code",
      "metadata": {
        "colab": {
          "base_uri": "https://localhost:8080/",
          "height": 269
        },
        "id": "j6BrdnkHUsNf",
        "outputId": "a2a96351-f826-4353-c097-29a3da924164"
      },
      "source": [
        "#wyświetlenie wykresu wraz 3 nowymi punktami\n",
        "xx=np.arange(-10,11)\n",
        "yy=-(waga[1]/waga[2]) * xx + (waga[0]/waga[2])\n",
        "plt.plot(xx, yy, 'r-')      #czerwona, ciągła: \n",
        "                            #         linia decyzyjna po procesie uczenia\n",
        "\n",
        "\n",
        "for i in range(len(x)):\n",
        "  if d[i]==0:\n",
        "    plt.plot(x[i,0],x[i,1],'rx')\n",
        "  else:\n",
        "    plt.plot(x[i,0],x[i,1],'go')\n",
        "\n",
        "for i in range(len(xNew)):  #3 nowe punkty\n",
        "  if dNew[i]==0:\n",
        "    plt.plot(xNew[i,0],xNew[i,1],'cv')\n",
        "  else:\n",
        "    plt.plot(xNew[i,0],xNew[i,1],'m^')\n",
        "\n",
        "plt.axis([-10,10,-10,10])\n",
        "plt.show()"
      ],
      "execution_count": 14,
      "outputs": [
        {
          "output_type": "display_data",
          "data": {
            "image/png": "[encoded data removed]",
            "text/plain": [
              "<Figure size 432x288 with 1 Axes>"
            ]
          },
          "metadata": {
            "tags": [],
            "needs_background": "light"
          }
        }
      ]
    }
  ]
}