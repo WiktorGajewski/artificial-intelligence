{
  "nbformat": 4,
  "nbformat_minor": 0,
  "metadata": {
    "colab": {
      "name": "Lab07.ipynb",
      "provenance": [],
      "collapsed_sections": [],
      "authorship_tag": "ABX9TyOtrrS/ZMkrehqPS7yuQG05"
    },
    "kernelspec": {
      "name": "python3",
      "display_name": "Python 3"
    }
  },
  "cells": [
    {
      "cell_type": "markdown",
      "metadata": {
        "id": "Hupbyezjtnu0"
      },
      "source": [
        "# **Laboratorium 7**"
      ]
    },
    {
      "cell_type": "markdown",
      "metadata": {
        "id": "feZ3qaeztpcN"
      },
      "source": [
        "# Praktyczne wykorzystanie sieci neuronowych"
      ]
    },
    {
      "cell_type": "markdown",
      "metadata": {
        "id": "R5le4E_2v0lj"
      },
      "source": [
        "## Zadanie 1. Klasyfikacja kwiatu irysa"
      ]
    },
    {
      "cell_type": "markdown",
      "metadata": {
        "id": "b-oIynFkU0bb"
      },
      "source": [
        "### Rozpoznawanie pojedynczego kwiatu irysa"
      ]
    },
    {
      "cell_type": "markdown",
      "metadata": {
        "id": "kr3sRLPlx08f"
      },
      "source": [
        "**Przygotowanie ciągu uczącego**"
      ]
    },
    {
      "cell_type": "code",
      "metadata": {
        "colab": {
          "base_uri": "https://localhost:8080/",
          "height": 0
        },
        "id": "Kur6_P72tkzS",
        "outputId": "8c6655da-4f83-46a5-e03b-bd04c1e3b578"
      },
      "source": [
        "#wczytanie ciągu uczącego\r\n",
        "import pandas as pd\r\n",
        "file = 'http://iisi.pcz.pl/~mg/pcz/iris.csv'\r\n",
        "dataframe = pd.read_csv(file)\r\n",
        "print(dataframe)"
      ],
      "execution_count": 893,
      "outputs": [
        {
          "output_type": "stream",
          "text": [
            "     sepal.length  sepal.width  petal.length  petal.width    variety\n",
            "0             5.1          3.5           1.4          0.2     Setosa\n",
            "1             4.9          3.0           1.4          0.2     Setosa\n",
            "2             4.7          3.2           1.3          0.2     Setosa\n",
            "3             4.6          3.1           1.5          0.2     Setosa\n",
            "4             5.0          3.6           1.4          0.2     Setosa\n",
            "..            ...          ...           ...          ...        ...\n",
            "145           6.7          3.0           5.2          2.3  Virginica\n",
            "146           6.3          2.5           5.0          1.9  Virginica\n",
            "147           6.5          3.0           5.2          2.0  Virginica\n",
            "148           6.2          3.4           5.4          2.3  Virginica\n",
            "149           5.9          3.0           5.1          1.8  Virginica\n",
            "\n",
            "[150 rows x 5 columns]\n"
          ],
          "name": "stdout"
        }
      ]
    },
    {
      "cell_type": "code",
      "metadata": {
        "colab": {
          "base_uri": "https://localhost:8080/",
          "height": 0
        },
        "id": "NoLB9ri2wbC_",
        "outputId": "9983fd85-3d7b-4957-9164-9fd35f362c59"
      },
      "source": [
        "#unikalne nazwy kwiatów (5 kolumna)\r\n",
        "print(dataframe['variety'].unique())"
      ],
      "execution_count": 894,
      "outputs": [
        {
          "output_type": "stream",
          "text": [
            "['Setosa' 'Versicolor' 'Virginica']\n"
          ],
          "name": "stdout"
        }
      ]
    },
    {
      "cell_type": "code",
      "metadata": {
        "id": "6PIk_Ys9w70Q"
      },
      "source": [
        "#stworzenie kolumny 'y' zawierającej 1 dla rodzaju 'Setosa' i 0 dla pozostałych\r\n",
        "#w celu nauki przez sieć neuronową\r\n",
        "dataframe['y'] = dataframe['variety']\r\n",
        "dataframe['y'] = dataframe['y'].replace('Setosa', 1.0)\r\n",
        "dataframe['y'] = dataframe['y'].replace('Versicolor', 0.0)\r\n",
        "dataframe['y'] = dataframe['y'].replace('Virginica', 0.0)"
      ],
      "execution_count": 895,
      "outputs": []
    },
    {
      "cell_type": "code",
      "metadata": {
        "colab": {
          "base_uri": "https://localhost:8080/",
          "height": 0
        },
        "id": "xvtJRxh9xXvb",
        "outputId": "f76bccb2-fdd5-480a-c8e8-6eec4c446bba"
      },
      "source": [
        "print(dataframe)"
      ],
      "execution_count": 896,
      "outputs": [
        {
          "output_type": "stream",
          "text": [
            "     sepal.length  sepal.width  petal.length  petal.width    variety    y\n",
            "0             5.1          3.5           1.4          0.2     Setosa  1.0\n",
            "1             4.9          3.0           1.4          0.2     Setosa  1.0\n",
            "2             4.7          3.2           1.3          0.2     Setosa  1.0\n",
            "3             4.6          3.1           1.5          0.2     Setosa  1.0\n",
            "4             5.0          3.6           1.4          0.2     Setosa  1.0\n",
            "..            ...          ...           ...          ...        ...  ...\n",
            "145           6.7          3.0           5.2          2.3  Virginica  0.0\n",
            "146           6.3          2.5           5.0          1.9  Virginica  0.0\n",
            "147           6.5          3.0           5.2          2.0  Virginica  0.0\n",
            "148           6.2          3.4           5.4          2.3  Virginica  0.0\n",
            "149           5.9          3.0           5.1          1.8  Virginica  0.0\n",
            "\n",
            "[150 rows x 6 columns]\n"
          ],
          "name": "stdout"
        }
      ]
    },
    {
      "cell_type": "code",
      "metadata": {
        "colab": {
          "base_uri": "https://localhost:8080/",
          "height": 0
        },
        "id": "kqlyvuF3xbXk",
        "outputId": "37be6fa7-aa59-4ba8-dcf4-c33248a41f89"
      },
      "source": [
        "print(dataframe['y'].unique())"
      ],
      "execution_count": 897,
      "outputs": [
        {
          "output_type": "stream",
          "text": [
            "[1. 0.]\n"
          ],
          "name": "stdout"
        }
      ]
    },
    {
      "cell_type": "markdown",
      "metadata": {
        "id": "dC1GwRBsx8Cu"
      },
      "source": [
        "**Podział danych na część treningową i testującą**"
      ]
    },
    {
      "cell_type": "code",
      "metadata": {
        "id": "BzC81z-7yCiH"
      },
      "source": [
        "#część wejściowa X\r\n",
        "x = dataframe[ ['sepal.length', 'sepal.width', 'petal.length', 'petal.width'] ]\r\n",
        "#wartości oczekiwane, wzorcowe Y\r\n",
        "y = dataframe['y']"
      ],
      "execution_count": 898,
      "outputs": []
    },
    {
      "cell_type": "code",
      "metadata": {
        "id": "10ctd-P7zIkQ"
      },
      "source": [
        "#podział ciągu proporconalnie na 80% próbek treningowych i 20% testowych\r\n",
        "#przy zachowaniu proporcji 0 i 1 w wektorze Y\r\n",
        "\r\n",
        "from sklearn.model_selection import train_test_split\r\n",
        "\r\n",
        "x_train, x_test, y_train, y_test = train_test_split(x, y, stratify=y, test_size=0.2)"
      ],
      "execution_count": 899,
      "outputs": []
    },
    {
      "cell_type": "code",
      "metadata": {
        "id": "hC_Wn6Zd0lOz"
      },
      "source": [
        "#para x_train, y_train będzie służyć do nauki sieci\r\n",
        "#para x_test, y_test będzie służyć do testowania skuteczności sieci\r\n",
        "\r\n",
        "#zamiana danych na tablice numpy\r\n",
        "x_train = x_train.to_numpy()\r\n",
        "x_test = x_test.to_numpy()\r\n",
        "y_train = y_train.to_numpy()\r\n",
        "y_test = y_test.to_numpy()"
      ],
      "execution_count": 900,
      "outputs": []
    },
    {
      "cell_type": "markdown",
      "metadata": {
        "id": "RAM2muDu1bzy"
      },
      "source": [
        "**Przygotowanie modelu sieci neuronowej**"
      ]
    },
    {
      "cell_type": "code",
      "metadata": {
        "id": "QHReaPFw1g2R"
      },
      "source": [
        "#biblioteka Keras (służy do prostego tworzenia, uczenia i modelowania sieci neuronowych)\r\n",
        "from keras.models import Sequential\r\n",
        "from keras.layers import Dense, Activation\r\n",
        "from keras.optimizers import SGD\r\n",
        "\r\n",
        "M=2 #liczba neuronów w 1 warstwie\r\n",
        "\r\n",
        "model = Sequential()  #sieć wielowarstwowa sekwencyjna (jednokierunkowa)\r\n",
        "\r\n",
        "model.add( Dense(M, activation='relu', input_dim=4) ) #warstwa1\r\n",
        "#warstwa Dense (tzw. gęsta - wszystkie sąsiadujące neurony są ze sobą połączone)\r\n",
        "# M to liczba neuronów w pierwszej warstwie\r\n",
        "# funkcja aktywacji relu (𝑓(𝑥)=𝑚𝑎𝑥(0,𝑥))\r\n",
        "# warstwa jest połączona z 4 wejściami (input_dim=4), ponieważ ciąg X ma 4 wejścia\r\n",
        "\r\n",
        "model.add( Dense(1, activation='sigmoid') )           #warstwa2\r\n",
        "# składa się z 1 neuronu\r\n",
        "# funkcja aktywacji 'sigmoid' (wartości z przedziału od 0 do 1)\r\n",
        "\r\n",
        "model.compile(optimizer=\"adam\", loss=\"binary_crossentropy\")\r\n",
        "#optimizer to algorytm uczenia sieci\r\n",
        "#loss to funkcja straty\r\n",
        "#dla oczekiwanej postaci zero-jedynkowej najbardzie optymalny: 'binary_crossentropy'\r\n",
        "#inne np. błąd średniokwadratowy 'mean_squared_error'"
      ],
      "execution_count": 901,
      "outputs": []
    },
    {
      "cell_type": "markdown",
      "metadata": {
        "id": "kJ_nGdNu65yS"
      },
      "source": [
        "**Uczenie sieci**"
      ]
    },
    {
      "cell_type": "code",
      "metadata": {
        "colab": {
          "base_uri": "https://localhost:8080/",
          "height": 0
        },
        "id": "hAoG8_R467uK",
        "outputId": "d894d0e1-74fe-47bc-bd92-dd5fd7a1ba81"
      },
      "source": [
        "E=12  #liczba epok uczenia \r\n",
        "\r\n",
        "#x_train - dane wejściowe\r\n",
        "#y_train - dane wyjściowe, oczekiwane, wzorcowe\r\n",
        "#epochs - liczba epok uczenia (im więcej tym dokładnie sieć się uczy)\r\n",
        "#batch_size - liczba danych, po których następuje modyfikacja wag\r\n",
        "#       (im mniej, tym dokładniej się sieć uczy, ale również wolniej)\r\n",
        "#verbose(0-brak wyświetlania danych podczas uczenia, 1 lub 2 –wyświetlany postęp uczenia)\r\n",
        "#zwracana wartość history: historia zmian wartości ‘loss’, powinna maleć w trakcie uczenia\r\n",
        "\r\n",
        "history = model.fit(x_train, y_train, epochs=E, batch_size=1, verbose=1)"
      ],
      "execution_count": 902,
      "outputs": [
        {
          "output_type": "stream",
          "text": [
            "Epoch 1/12\n",
            "120/120 [==============================] - 0s 793us/step - loss: 0.5061\n",
            "Epoch 2/12\n",
            "120/120 [==============================] - 0s 789us/step - loss: 0.4845\n",
            "Epoch 3/12\n",
            "120/120 [==============================] - 0s 771us/step - loss: 0.3979\n",
            "Epoch 4/12\n",
            "120/120 [==============================] - 0s 755us/step - loss: 0.4087\n",
            "Epoch 5/12\n",
            "120/120 [==============================] - 0s 821us/step - loss: 0.3548\n",
            "Epoch 6/12\n",
            "120/120 [==============================] - 0s 746us/step - loss: 0.2837\n",
            "Epoch 7/12\n",
            "120/120 [==============================] - 0s 780us/step - loss: 0.3032\n",
            "Epoch 8/12\n",
            "120/120 [==============================] - 0s 922us/step - loss: 0.2971\n",
            "Epoch 9/12\n",
            "120/120 [==============================] - 0s 904us/step - loss: 0.2651\n",
            "Epoch 10/12\n",
            "120/120 [==============================] - 0s 810us/step - loss: 0.2706\n",
            "Epoch 11/12\n",
            "120/120 [==============================] - 0s 793us/step - loss: 0.2326\n",
            "Epoch 12/12\n",
            "120/120 [==============================] - 0s 895us/step - loss: 0.2386\n"
          ],
          "name": "stdout"
        }
      ]
    },
    {
      "cell_type": "code",
      "metadata": {
        "colab": {
          "base_uri": "https://localhost:8080/",
          "height": 295
        },
        "id": "_ZAyCv24Dq4P",
        "outputId": "9391bc18-9309-42fe-beeb-8ed26f3fe99f"
      },
      "source": [
        "#wykres wartości funkcji celu( wartości 'loss') - powinien dążyć do 0\r\n",
        "import matplotlib.pyplot as plt\r\n",
        "\r\n",
        "plt.plot(history.history['loss'])\r\n",
        "plt.title('Model loss')\r\n",
        "plt.ylabel('Loss')\r\n",
        "plt.xlabel('Epoch')\r\n",
        "plt.legend(['Train'],loc='upper left')\r\n",
        "plt.show()"
      ],
      "execution_count": 903,
      "outputs": [
        {
          "output_type": "display_data",
          "data": {
            "image/png": "[encoded data removed]",
            "text/plain": [
              "<Figure size 432x288 with 1 Axes>"
            ]
          },
          "metadata": {
            "tags": [],
            "needs_background": "light"
          }
        }
      ]
    },
    {
      "cell_type": "markdown",
      "metadata": {
        "id": "pXRUCIlxE4E9"
      },
      "source": [
        "**Testowanie skuteczności uczenia sieci**"
      ]
    },
    {
      "cell_type": "code",
      "metadata": {
        "colab": {
          "base_uri": "https://localhost:8080/",
          "height": 0
        },
        "id": "Gd1qx8Y2E9K-",
        "outputId": "bca1f086-90cd-4707-b971-d25ff17288bc"
      },
      "source": [
        "y_result_train = model.predict_classes(x_train)\r\n",
        "\r\n",
        "bledy=0\r\n",
        "for i in range(len(y_train)):\r\n",
        "  if y_result_train[i] != y_train[i]:\r\n",
        "    bledy += 1\r\n",
        "    \r\n",
        "print(\"Liczba bledow ciagu treningowego:\", bledy)\r\n",
        "print(\"Procent popelnionych bledow: %.2f %%\" % (bledy/(len(y_train))*100))\r\n",
        "print(\"Efektywnosc: %.2f %%\" % (100-(bledy/(len(y_train))*100)))"
      ],
      "execution_count": 904,
      "outputs": [
        {
          "output_type": "stream",
          "text": [
            "Liczba bledow ciagu treningowego: 0\n",
            "Procent popelnionych bledow: 0.00 %\n",
            "Efektywnosc: 100.00 %\n"
          ],
          "name": "stdout"
        },
        {
          "output_type": "stream",
          "text": [
            "/usr/local/lib/python3.6/dist-packages/tensorflow/python/keras/engine/sequential.py:450: UserWarning: `model.predict_classes()` is deprecated and will be removed after 2021-01-01. Please use instead:* `np.argmax(model.predict(x), axis=-1)`,   if your model does multi-class classification   (e.g. if it uses a `softmax` last-layer activation).* `(model.predict(x) > 0.5).astype(\"int32\")`,   if your model does binary classification   (e.g. if it uses a `sigmoid` last-layer activation).\n",
            "  warnings.warn('`model.predict_classes()` is deprecated and '\n"
          ],
          "name": "stderr"
        }
      ]
    },
    {
      "cell_type": "code",
      "metadata": {
        "colab": {
          "base_uri": "https://localhost:8080/",
          "height": 0
        },
        "id": "8bi77UfrLgY3",
        "outputId": "6884a75e-e33b-44be-dab3-c7d8d9a757fc"
      },
      "source": [
        "y_result_train = (model.predict(x_train) > 0.5).astype(\"int32\")\r\n",
        "\r\n",
        "bledy=0\r\n",
        "for i in range(len(y_train)):\r\n",
        "  if y_result_train[i] != y_train[i]:\r\n",
        "    bledy += 1\r\n",
        "    \r\n",
        "print(\"Liczba bledow ciagu treningowego:\", bledy)\r\n",
        "print(\"Procent popelnionych bledow: %.2f %%\" % (bledy/(len(y_train))*100))\r\n",
        "print(\"Efektywnosc: %.2f %%\" % (100-(bledy/(len(y_train))*100)))"
      ],
      "execution_count": 905,
      "outputs": [
        {
          "output_type": "stream",
          "text": [
            "Liczba bledow ciagu treningowego: 0\n",
            "Procent popelnionych bledow: 0.00 %\n",
            "Efektywnosc: 100.00 %\n"
          ],
          "name": "stdout"
        }
      ]
    },
    {
      "cell_type": "code",
      "metadata": {
        "colab": {
          "base_uri": "https://localhost:8080/",
          "height": 0
        },
        "id": "OlCW9nedI9IP",
        "outputId": "92a194a4-0fef-477e-d3ba-a083e384fe70"
      },
      "source": [
        "y_result_test = (model.predict(x_test) > 0.5).astype(\"int32\")\r\n",
        "\r\n",
        "bledy=0\r\n",
        "for i in range(len(y_test)):\r\n",
        "  if y_result_test[i] != y_test[i]:\r\n",
        "    bledy += 1\r\n",
        "    \r\n",
        "print(\"Liczba bledow ciagu testowego:\", bledy)\r\n",
        "print(\"Procent popelnionych bledow: %.2f %%\" % (bledy/(len(y_test))*100))\r\n",
        "print(\"Efektywnosc: %.2f %%\" % (100-(bledy/(len(y_test))*100)))"
      ],
      "execution_count": 906,
      "outputs": [
        {
          "output_type": "stream",
          "text": [
            "Liczba bledow ciagu testowego: 0\n",
            "Procent popelnionych bledow: 0.00 %\n",
            "Efektywnosc: 100.00 %\n"
          ],
          "name": "stdout"
        }
      ]
    },
    {
      "cell_type": "markdown",
      "metadata": {
        "id": "BW2bxo-nVk2k"
      },
      "source": [
        "### Zad. 1 - Rozpoznawanie pojedynczego kwiatu irysa, dla różnych sieci neuronowych"
      ]
    },
    {
      "cell_type": "markdown",
      "metadata": {
        "id": "0DcW15NAXZ6o"
      },
      "source": [
        "**1 Próba** dla sieci:\r\n",
        " - 3 warstwy \r\n",
        "    - w 1 warstwie: 2 neurony\r\n",
        "    - w 2 warstwie: 2 neurony\r\n",
        "    - w 3 warstwie: 1 neuron\r\n",
        "\r\n",
        " - 10 epok"
      ]
    },
    {
      "cell_type": "code",
      "metadata": {
        "id": "exoyOXjAVxh0"
      },
      "source": [
        "#Przygotowanie modelu sieci neuronowej\r\n",
        "\r\n",
        "M=2 #liczba neuronów w 1 warstwie\r\n",
        "N=2 #liczba neuronów w 2 warstwie\r\n",
        "model = Sequential()  \r\n",
        "model.add( Dense(M, activation='relu', input_dim=4) ) #warstwa1\r\n",
        "model.add( Dense(N, activation='relu') )              #warstwa2\r\n",
        "model.add( Dense(1, activation='sigmoid') )           #warstwa3\r\n",
        "model.compile(optimizer=\"adam\", loss=\"binary_crossentropy\")"
      ],
      "execution_count": 907,
      "outputs": []
    },
    {
      "cell_type": "code",
      "metadata": {
        "colab": {
          "base_uri": "https://localhost:8080/",
          "height": 0
        },
        "id": "L48TykPqWJlN",
        "outputId": "d939c3b7-1e67-4d32-ccde-c71b66d80126"
      },
      "source": [
        "#Uczenie sieci neuronowej\r\n",
        "\r\n",
        "E=10  #liczba epok uczenia \r\n",
        "history = model.fit(x_train, y_train, epochs=E, batch_size=1, verbose=1)"
      ],
      "execution_count": 908,
      "outputs": [
        {
          "output_type": "stream",
          "text": [
            "Epoch 1/10\n",
            "120/120 [==============================] - 0s 958us/step - loss: 0.9913\n",
            "Epoch 2/10\n",
            "120/120 [==============================] - 0s 786us/step - loss: 0.5614\n",
            "Epoch 3/10\n",
            "120/120 [==============================] - 0s 964us/step - loss: 0.4661\n",
            "Epoch 4/10\n",
            "120/120 [==============================] - 0s 948us/step - loss: 0.4191\n",
            "Epoch 5/10\n",
            "120/120 [==============================] - 0s 919us/step - loss: 0.3606\n",
            "Epoch 6/10\n",
            "120/120 [==============================] - 0s 921us/step - loss: 0.3285\n",
            "Epoch 7/10\n",
            "120/120 [==============================] - 0s 783us/step - loss: 0.3154\n",
            "Epoch 8/10\n",
            "120/120 [==============================] - 0s 833us/step - loss: 0.2784\n",
            "Epoch 9/10\n",
            "120/120 [==============================] - 0s 1ms/step - loss: 0.2498\n",
            "Epoch 10/10\n",
            "120/120 [==============================] - 0s 1ms/step - loss: 0.2395\n"
          ],
          "name": "stdout"
        }
      ]
    },
    {
      "cell_type": "code",
      "metadata": {
        "colab": {
          "base_uri": "https://localhost:8080/",
          "height": 295
        },
        "id": "vkYURXQXWUqO",
        "outputId": "2dcd98d3-439d-4eee-9ff1-611a6eac7ef5"
      },
      "source": [
        "#wykres wartości funkcji celu\r\n",
        "\r\n",
        "plt.plot(history.history['loss'])\r\n",
        "plt.title('Model loss')\r\n",
        "plt.ylabel('Loss')\r\n",
        "plt.xlabel('Epoch')\r\n",
        "plt.legend(['Train'],loc='upper left')\r\n",
        "plt.show()"
      ],
      "execution_count": 909,
      "outputs": [
        {
          "output_type": "display_data",
          "data": {
            "image/png": "[encoded data removed]",
            "text/plain": [
              "<Figure size 432x288 with 1 Axes>"
            ]
          },
          "metadata": {
            "tags": [],
            "needs_background": "light"
          }
        }
      ]
    },
    {
      "cell_type": "code",
      "metadata": {
        "colab": {
          "base_uri": "https://localhost:8080/",
          "height": 0
        },
        "id": "7vTT3Hm7Whve",
        "outputId": "f61cb156-4822-4e09-c3b9-3e2ba3ab8c73"
      },
      "source": [
        "#Testowanie skuteczności sieci\r\n",
        "y_result_train = (model.predict(x_train) > 0.5).astype(\"int32\")\r\n",
        "y_result_test = (model.predict(x_test) > 0.5).astype(\"int32\")\r\n",
        "\r\n",
        "f_train=0\r\n",
        "f_test=0\r\n",
        "\r\n",
        "for i in range(len(y_train)):\r\n",
        "  if y_result_train[i] != y_train[i]:\r\n",
        "    f_train += 1\r\n",
        "for i in range(len(y_test)):\r\n",
        "  if y_result_test[i] != y_test[i]:\r\n",
        "    f_test += 1\r\n",
        "  \r\n",
        "print(\"Liczba bledow ciagu treningowego:\", f_train)\r\n",
        "print(\"Procent popelnionych bledow: %.2f %%\" % (f_train/(len(y_train))*100))\r\n",
        "print(\"Efektywnosc: %.2f %%\" % (100-(f_train/(len(y_train))*100)))\r\n",
        "\r\n",
        "print(\"Liczba bledow ciagu testowego:\", f_test)\r\n",
        "print(\"Procent popelnionych bledow: %.2f %%\" % (f_test/(len(y_test))*100))\r\n",
        "print(\"Efektywnosc: %.2f %%\" % (100-(f_test/(len(y_test))*100)))"
      ],
      "execution_count": 910,
      "outputs": [
        {
          "output_type": "stream",
          "text": [
            "Liczba bledow ciagu treningowego: 2\n",
            "Procent popelnionych bledow: 1.67 %\n",
            "Efektywnosc: 98.33 %\n",
            "Liczba bledow ciagu testowego: 1\n",
            "Procent popelnionych bledow: 3.33 %\n",
            "Efektywnosc: 96.67 %\n"
          ],
          "name": "stdout"
        }
      ]
    },
    {
      "cell_type": "markdown",
      "metadata": {
        "id": "2_alYrzDbRuu"
      },
      "source": [
        "**2 Próba** dla sieci: \r\n",
        " - 3 warstwy \r\n",
        "    - w 1 warstwie: 3 neurony\r\n",
        "    - w 2 warstwie: 2 neurony\r\n",
        "    - w 3 warstwie: 1 neuron\r\n",
        "\r\n",
        " - 10 epok"
      ]
    },
    {
      "cell_type": "code",
      "metadata": {
        "id": "_VhNPlsLaFXI"
      },
      "source": [
        "#Przygotowanie modelu sieci neuronowej\r\n",
        "\r\n",
        "M=3 #liczba neuronów w 1 warstwie\r\n",
        "N=2 #liczba neuronów w 2 warstwie\r\n",
        "model = Sequential()  \r\n",
        "model.add( Dense(M, activation='relu', input_dim=4) ) #warstwa1\r\n",
        "model.add( Dense(N, activation='relu') )              #warstwa2\r\n",
        "model.add( Dense(1, activation='sigmoid') )           #warstwa3\r\n",
        "model.compile(optimizer=\"adam\", loss=\"binary_crossentropy\")"
      ],
      "execution_count": 911,
      "outputs": []
    },
    {
      "cell_type": "code",
      "metadata": {
        "colab": {
          "base_uri": "https://localhost:8080/",
          "height": 0
        },
        "id": "2J96OfkResPv",
        "outputId": "956e31bf-5dad-4f4f-f1fa-34b6abefaeb6"
      },
      "source": [
        "#Uczenie sieci neuronowej\r\n",
        "\r\n",
        "E=10  #liczba epok uczenia \r\n",
        "history = model.fit(x_train, y_train, epochs=E, batch_size=1, verbose=1)"
      ],
      "execution_count": 912,
      "outputs": [
        {
          "output_type": "stream",
          "text": [
            "Epoch 1/10\n",
            "120/120 [==============================] - 0s 1ms/step - loss: 0.3411\n",
            "Epoch 2/10\n",
            "120/120 [==============================] - 0s 816us/step - loss: 0.2425\n",
            "Epoch 3/10\n",
            "120/120 [==============================] - 0s 819us/step - loss: 0.2146\n",
            "Epoch 4/10\n",
            "120/120 [==============================] - 0s 815us/step - loss: 0.2301\n",
            "Epoch 5/10\n",
            "120/120 [==============================] - 0s 800us/step - loss: 0.1930\n",
            "Epoch 6/10\n",
            "120/120 [==============================] - 0s 822us/step - loss: 0.1883\n",
            "Epoch 7/10\n",
            "120/120 [==============================] - 0s 957us/step - loss: 0.2051\n",
            "Epoch 8/10\n",
            "120/120 [==============================] - 0s 929us/step - loss: 0.1447\n",
            "Epoch 9/10\n",
            "120/120 [==============================] - 0s 920us/step - loss: 0.1993\n",
            "Epoch 10/10\n",
            "120/120 [==============================] - 0s 842us/step - loss: 0.1538\n"
          ],
          "name": "stdout"
        }
      ]
    },
    {
      "cell_type": "code",
      "metadata": {
        "colab": {
          "base_uri": "https://localhost:8080/",
          "height": 295
        },
        "id": "uFAWxupqesSL",
        "outputId": "448b5a75-d279-4b8f-ae6e-8fa4305b911a"
      },
      "source": [
        "#wykres wartości funkcji celu\r\n",
        "\r\n",
        "plt.plot(history.history['loss'])\r\n",
        "plt.title('Model loss')\r\n",
        "plt.ylabel('Loss')\r\n",
        "plt.xlabel('Epoch')\r\n",
        "plt.legend(['Train'],loc='upper left')\r\n",
        "plt.show()"
      ],
      "execution_count": 913,
      "outputs": [
        {
          "output_type": "display_data",
          "data": {
            "image/png": "[encoded data removed]",
            "text/plain": [
              "<Figure size 432x288 with 1 Axes>"
            ]
          },
          "metadata": {
            "tags": [],
            "needs_background": "light"
          }
        }
      ]
    },
    {
      "cell_type": "code",
      "metadata": {
        "colab": {
          "base_uri": "https://localhost:8080/",
          "height": 0
        },
        "id": "xGk9Pw1TesU1",
        "outputId": "4578c970-a06f-47f6-82ac-e48c17788e67"
      },
      "source": [
        "#Testowanie skuteczności sieci\r\n",
        "y_result_train = (model.predict(x_train) > 0.5).astype(\"int32\")\r\n",
        "y_result_test = (model.predict(x_test) > 0.5).astype(\"int32\")\r\n",
        "\r\n",
        "f_train=0\r\n",
        "f_test=0\r\n",
        "\r\n",
        "for i in range(len(y_train)):\r\n",
        "  if y_result_train[i] != y_train[i]:\r\n",
        "    f_train += 1\r\n",
        "for i in range(len(y_test)):\r\n",
        "  if y_result_test[i] != y_test[i]:\r\n",
        "    f_test += 1\r\n",
        "  \r\n",
        "print(\"Liczba bledow ciagu treningowego:\", f_train)\r\n",
        "print(\"Procent popelnionych bledow: %.2f %%\" % (f_train/(len(y_train))*100))\r\n",
        "print(\"Efektywnosc: %.2f %%\" % (100-(f_train/(len(y_train))*100)))\r\n",
        "\r\n",
        "print(\"Liczba bledow ciagu testowego:\", f_test)\r\n",
        "print(\"Procent popelnionych bledow: %.2f %%\" % (f_test/(len(y_test))*100))\r\n",
        "print(\"Efektywnosc: %.2f %%\" % (100-(f_test/(len(y_test))*100)))"
      ],
      "execution_count": 914,
      "outputs": [
        {
          "output_type": "stream",
          "text": [
            "Liczba bledow ciagu treningowego: 0\n",
            "Procent popelnionych bledow: 0.00 %\n",
            "Efektywnosc: 100.00 %\n",
            "Liczba bledow ciagu testowego: 0\n",
            "Procent popelnionych bledow: 0.00 %\n",
            "Efektywnosc: 100.00 %\n"
          ],
          "name": "stdout"
        }
      ]
    },
    {
      "cell_type": "markdown",
      "metadata": {
        "id": "ROo42Mexf6nR"
      },
      "source": [
        "**3 Próba** dla sieci: \r\n",
        " - 3 warstwy \r\n",
        "    - w 1 warstwie: 3 neurony\r\n",
        "    - w 2 warstwie: 3 neurony\r\n",
        "    - w 3 warstwie: 1 neuron\r\n",
        "\r\n",
        " - 10 epok"
      ]
    },
    {
      "cell_type": "code",
      "metadata": {
        "id": "unFUACXPesX4"
      },
      "source": [
        "#Przygotowanie modelu sieci neuronowej\r\n",
        "\r\n",
        "M=3 #liczba neuronów w 1 warstwie\r\n",
        "N=3 #liczba neuronów w 2 warstwie\r\n",
        "model = Sequential()  \r\n",
        "model.add( Dense(M, activation='relu', input_dim=4) ) #warstwa1\r\n",
        "model.add( Dense(N, activation='relu') )              #warstwa2\r\n",
        "model.add( Dense(1, activation='sigmoid') )           #warstwa3\r\n",
        "model.compile(optimizer=\"adam\", loss=\"binary_crossentropy\")"
      ],
      "execution_count": 915,
      "outputs": []
    },
    {
      "cell_type": "code",
      "metadata": {
        "colab": {
          "base_uri": "https://localhost:8080/",
          "height": 0
        },
        "id": "W45LDg-Mgp5K",
        "outputId": "74ce21e4-b562-4b13-9bfc-759f2dc817cf"
      },
      "source": [
        "#Uczenie sieci neuronowej\r\n",
        "\r\n",
        "E=10  #liczba epok uczenia \r\n",
        "history = model.fit(x_train, y_train, epochs=E, batch_size=1, verbose=1)"
      ],
      "execution_count": 916,
      "outputs": [
        {
          "output_type": "stream",
          "text": [
            "Epoch 1/10\n",
            "120/120 [==============================] - 0s 891us/step - loss: 0.6918\n",
            "Epoch 2/10\n",
            "120/120 [==============================] - 0s 839us/step - loss: 0.6875\n",
            "Epoch 3/10\n",
            "120/120 [==============================] - 0s 833us/step - loss: 0.6781\n",
            "Epoch 4/10\n",
            "120/120 [==============================] - 0s 887us/step - loss: 0.6730\n",
            "Epoch 5/10\n",
            "120/120 [==============================] - 0s 965us/step - loss: 0.6708\n",
            "Epoch 6/10\n",
            "120/120 [==============================] - 0s 944us/step - loss: 0.6588\n",
            "Epoch 7/10\n",
            "120/120 [==============================] - 0s 1ms/step - loss: 0.6461\n",
            "Epoch 8/10\n",
            "120/120 [==============================] - 0s 970us/step - loss: 0.6636\n",
            "Epoch 9/10\n",
            "120/120 [==============================] - 0s 826us/step - loss: 0.6591\n",
            "Epoch 10/10\n",
            "120/120 [==============================] - 0s 914us/step - loss: 0.6577\n"
          ],
          "name": "stdout"
        }
      ]
    },
    {
      "cell_type": "code",
      "metadata": {
        "colab": {
          "base_uri": "https://localhost:8080/",
          "height": 295
        },
        "id": "O6tEor4EgttS",
        "outputId": "329733ab-492f-4428-afc0-25ea2dec3bf1"
      },
      "source": [
        "#wykres wartości funkcji celu\r\n",
        "\r\n",
        "plt.plot(history.history['loss'])\r\n",
        "plt.title('Model loss')\r\n",
        "plt.ylabel('Loss')\r\n",
        "plt.xlabel('Epoch')\r\n",
        "plt.legend(['Train'],loc='upper left')\r\n",
        "plt.show()"
      ],
      "execution_count": 917,
      "outputs": [
        {
          "output_type": "display_data",
          "data": {
            "image/png": "[encoded data removed]",
            "text/plain": [
              "<Figure size 432x288 with 1 Axes>"
            ]
          },
          "metadata": {
            "tags": [],
            "needs_background": "light"
          }
        }
      ]
    },
    {
      "cell_type": "code",
      "metadata": {
        "colab": {
          "base_uri": "https://localhost:8080/",
          "height": 0
        },
        "id": "bdUOTPisgw5j",
        "outputId": "24a66cbe-c6ea-4d3e-e145-ab51eb5a6fe5"
      },
      "source": [
        "#Testowanie skuteczności sieci\r\n",
        "y_result_train = (model.predict(x_train) > 0.5).astype(\"int32\")\r\n",
        "y_result_test = (model.predict(x_test) > 0.5).astype(\"int32\")\r\n",
        "\r\n",
        "f_train=0\r\n",
        "f_test=0\r\n",
        "\r\n",
        "for i in range(len(y_train)):\r\n",
        "  if y_result_train[i] != y_train[i]:\r\n",
        "    f_train += 1\r\n",
        "for i in range(len(y_test)):\r\n",
        "  if y_result_test[i] != y_test[i]:\r\n",
        "    f_test += 1\r\n",
        "  \r\n",
        "print(\"Liczba bledow ciagu treningowego:\", f_train)\r\n",
        "print(\"Procent popelnionych bledow: %.2f %%\" % (f_train/(len(y_train))*100))\r\n",
        "print(\"Efektywnosc: %.2f %%\" % (100-(f_train/(len(y_train))*100)))\r\n",
        "\r\n",
        "print(\"Liczba bledow ciagu testowego:\", f_test)\r\n",
        "print(\"Procent popelnionych bledow: %.2f %%\" % (f_test/(len(y_test))*100))\r\n",
        "print(\"Efektywnosc: %.2f %%\" % (100-(f_test/(len(y_test))*100)))"
      ],
      "execution_count": 918,
      "outputs": [
        {
          "output_type": "stream",
          "text": [
            "Liczba bledow ciagu treningowego: 40\n",
            "Procent popelnionych bledow: 33.33 %\n",
            "Efektywnosc: 66.67 %\n",
            "Liczba bledow ciagu testowego: 10\n",
            "Procent popelnionych bledow: 33.33 %\n",
            "Efektywnosc: 66.67 %\n"
          ],
          "name": "stdout"
        }
      ]
    },
    {
      "cell_type": "markdown",
      "metadata": {
        "id": "AFGZLaRCY1XU"
      },
      "source": [
        "**4 Próba** dla sieci: \r\n",
        " - 3 warstwy \r\n",
        "    - w 1 warstwie: 4 neurony\r\n",
        "    - w 2 warstwie: 3 neurony\r\n",
        "    - w 3 warstwie: 1 neuron\r\n",
        "\r\n",
        " - 10 epok"
      ]
    },
    {
      "cell_type": "code",
      "metadata": {
        "id": "McCvwoOEaE4o"
      },
      "source": [
        "#Przygotowanie modelu sieci neuronowej\r\n",
        "\r\n",
        "M=4 #liczba neuronów w 1 warstwie\r\n",
        "N=3 #liczba neuronów w 2 warstwie\r\n",
        "model = Sequential()  \r\n",
        "model.add( Dense(M, activation='relu', input_dim=4) ) #warstwa1\r\n",
        "model.add( Dense(N, activation='relu') )              #warstwa2\r\n",
        "model.add( Dense(1, activation='sigmoid') )           #warstwa3\r\n",
        "model.compile(optimizer=\"adam\", loss=\"binary_crossentropy\")"
      ],
      "execution_count": 927,
      "outputs": []
    },
    {
      "cell_type": "code",
      "metadata": {
        "colab": {
          "base_uri": "https://localhost:8080/",
          "height": 0
        },
        "id": "qfHO5PGRaFKz",
        "outputId": "21e3a0e5-9cfc-4182-d0d9-1bf99022265f"
      },
      "source": [
        "#Uczenie sieci neuronowej\r\n",
        "\r\n",
        "E=10  #liczba epok uczenia \r\n",
        "history = model.fit(x_train, y_train, epochs=E, batch_size=1, verbose=1)"
      ],
      "execution_count": 928,
      "outputs": [
        {
          "output_type": "stream",
          "text": [
            "Epoch 1/10\n",
            "120/120 [==============================] - 0s 964us/step - loss: 0.6913\n",
            "Epoch 2/10\n",
            "120/120 [==============================] - 0s 984us/step - loss: 0.6828\n",
            "Epoch 3/10\n",
            "120/120 [==============================] - 0s 925us/step - loss: 0.6831\n",
            "Epoch 4/10\n",
            "120/120 [==============================] - 0s 853us/step - loss: 0.6790\n",
            "Epoch 5/10\n",
            "120/120 [==============================] - 0s 908us/step - loss: 0.6715\n",
            "Epoch 6/10\n",
            "120/120 [==============================] - 0s 871us/step - loss: 0.6673\n",
            "Epoch 7/10\n",
            "120/120 [==============================] - 0s 1ms/step - loss: 0.6680\n",
            "Epoch 8/10\n",
            "120/120 [==============================] - 0s 946us/step - loss: 0.6668\n",
            "Epoch 9/10\n",
            "120/120 [==============================] - 0s 918us/step - loss: 0.6344\n",
            "Epoch 10/10\n",
            "120/120 [==============================] - 0s 1ms/step - loss: 0.6684\n"
          ],
          "name": "stdout"
        }
      ]
    },
    {
      "cell_type": "code",
      "metadata": {
        "colab": {
          "base_uri": "https://localhost:8080/",
          "height": 295
        },
        "id": "_tqqvAwuaFO-",
        "outputId": "95b50eb8-6c92-49be-d059-f08d510ce8ab"
      },
      "source": [
        "#wykres wartości funkcji celu\r\n",
        "\r\n",
        "plt.plot(history.history['loss'])\r\n",
        "plt.title('Model loss')\r\n",
        "plt.ylabel('Loss')\r\n",
        "plt.xlabel('Epoch')\r\n",
        "plt.legend(['Train'],loc='upper left')\r\n",
        "plt.show()"
      ],
      "execution_count": 929,
      "outputs": [
        {
          "output_type": "display_data",
          "data": {
            "image/png": "[encoded data removed]",
            "text/plain": [
              "<Figure size 432x288 with 1 Axes>"
            ]
          },
          "metadata": {
            "tags": [],
            "needs_background": "light"
          }
        }
      ]
    },
    {
      "cell_type": "code",
      "metadata": {
        "colab": {
          "base_uri": "https://localhost:8080/",
          "height": 0
        },
        "id": "6-90nfqKaFTk",
        "outputId": "63c91824-4714-4e72-f531-1eca4d1705fd"
      },
      "source": [
        "#Testowanie skuteczności sieci\r\n",
        "y_result_train = (model.predict(x_train) > 0.5).astype(\"int32\")\r\n",
        "y_result_test = (model.predict(x_test) > 0.5).astype(\"int32\")\r\n",
        "\r\n",
        "f_train=0\r\n",
        "f_test=0\r\n",
        "\r\n",
        "for i in range(len(y_train)):\r\n",
        "  if y_result_train[i] != y_train[i]:\r\n",
        "    f_train += 1\r\n",
        "for i in range(len(y_test)):\r\n",
        "  if y_result_test[i] != y_test[i]:\r\n",
        "    f_test += 1\r\n",
        "  \r\n",
        "print(\"Liczba bledow ciagu treningowego:\", f_train)\r\n",
        "print(\"Procent popelnionych bledow: %.2f %%\" % (f_train/(len(y_train))*100))\r\n",
        "print(\"Efektywnosc: %.2f %%\" % (100-(f_train/(len(y_train))*100)))\r\n",
        "\r\n",
        "print(\"Liczba bledow ciagu testowego:\", f_test)\r\n",
        "print(\"Procent popelnionych bledow: %.2f %%\" % (f_test/(len(y_test))*100))\r\n",
        "print(\"Efektywnosc: %.2f %%\" % (100-(f_test/(len(y_test))*100)))"
      ],
      "execution_count": 930,
      "outputs": [
        {
          "output_type": "stream",
          "text": [
            "Liczba bledow ciagu treningowego: 40\n",
            "Procent popelnionych bledow: 33.33 %\n",
            "Efektywnosc: 66.67 %\n",
            "Liczba bledow ciagu testowego: 10\n",
            "Procent popelnionych bledow: 33.33 %\n",
            "Efektywnosc: 66.67 %\n"
          ],
          "name": "stdout"
        }
      ]
    },
    {
      "cell_type": "markdown",
      "metadata": {
        "id": "hX4V74fZgL7X"
      },
      "source": [
        "**5 Próba** dla sieci: \r\n",
        " - 3 warstwy \r\n",
        "    - w 1 warstwie: 4 neurony\r\n",
        "    - w 2 warstwie: 4 neurony\r\n",
        "    - w 3 warstwie: 1 neuron\r\n",
        "\r\n",
        " - 10 epok"
      ]
    },
    {
      "cell_type": "code",
      "metadata": {
        "id": "llZH41hVesaf"
      },
      "source": [
        "#Przygotowanie modelu sieci neuronowej\r\n",
        "\r\n",
        "M=4 #liczba neuronów w 1 warstwie\r\n",
        "N=4 #liczba neuronów w 2 warstwie\r\n",
        "model = Sequential()  \r\n",
        "model.add( Dense(M, activation='relu', input_dim=4) ) #warstwa1\r\n",
        "model.add( Dense(N, activation='relu') )              #warstwa2\r\n",
        "model.add( Dense(1, activation='sigmoid') )           #warstwa3\r\n",
        "model.compile(optimizer=\"adam\", loss=\"binary_crossentropy\")"
      ],
      "execution_count": 937,
      "outputs": []
    },
    {
      "cell_type": "code",
      "metadata": {
        "colab": {
          "base_uri": "https://localhost:8080/",
          "height": 0
        },
        "id": "jXy-318Vgqhf",
        "outputId": "de04f6b8-ff9a-40ca-8e0c-3ebb60e4cb0b"
      },
      "source": [
        "#Uczenie sieci neuronowej\r\n",
        "\r\n",
        "E=10  #liczba epok uczenia \r\n",
        "history = model.fit(x_train, y_train, epochs=E, batch_size=1, verbose=1)"
      ],
      "execution_count": 938,
      "outputs": [
        {
          "output_type": "stream",
          "text": [
            "Epoch 1/10\n",
            "120/120 [==============================] - 0s 825us/step - loss: 0.5337\n",
            "Epoch 2/10\n",
            "120/120 [==============================] - 0s 787us/step - loss: 0.3957\n",
            "Epoch 3/10\n",
            "120/120 [==============================] - 0s 929us/step - loss: 0.3061\n",
            "Epoch 4/10\n",
            "120/120 [==============================] - 0s 813us/step - loss: 0.2500\n",
            "Epoch 5/10\n",
            "120/120 [==============================] - 0s 784us/step - loss: 0.1733\n",
            "Epoch 6/10\n",
            "120/120 [==============================] - 0s 834us/step - loss: 0.1258\n",
            "Epoch 7/10\n",
            "120/120 [==============================] - 0s 792us/step - loss: 0.1039\n",
            "Epoch 8/10\n",
            "120/120 [==============================] - 0s 977us/step - loss: 0.0885\n",
            "Epoch 9/10\n",
            "120/120 [==============================] - 0s 885us/step - loss: 0.0534\n",
            "Epoch 10/10\n",
            "120/120 [==============================] - 0s 905us/step - loss: 0.0514\n"
          ],
          "name": "stdout"
        }
      ]
    },
    {
      "cell_type": "code",
      "metadata": {
        "colab": {
          "base_uri": "https://localhost:8080/",
          "height": 295
        },
        "id": "eQFDqyi_guX5",
        "outputId": "0312828b-ad4c-444a-c820-4e1c36306dd1"
      },
      "source": [
        "#wykres wartości funkcji celu\r\n",
        "\r\n",
        "\r\n",
        "\r\n",
        "\r\n",
        "plt.plot(history.history['loss'])\r\n",
        "plt.title('Model loss')\r\n",
        "plt.ylabel('Loss')\r\n",
        "plt.xlabel('Epoch')\r\n",
        "plt.legend(['Train'],loc='upper left')\r\n",
        "plt.show()"
      ],
      "execution_count": 939,
      "outputs": [
        {
          "output_type": "display_data",
          "data": {
            "image/png": "[encoded data removed]",
            "text/plain": [
              "<Figure size 432x288 with 1 Axes>"
            ]
          },
          "metadata": {
            "tags": [],
            "needs_background": "light"
          }
        }
      ]
    },
    {
      "cell_type": "code",
      "metadata": {
        "colab": {
          "base_uri": "https://localhost:8080/",
          "height": 0
        },
        "id": "z9ObPNIAgxp5",
        "outputId": "57a64a15-f28d-41e6-8c58-f610deb57d05"
      },
      "source": [
        "#Testowanie skuteczności sieci\r\n",
        "y_result_train = (model.predict(x_train) > 0.5).astype(\"int32\")\r\n",
        "y_result_test = (model.predict(x_test) > 0.5).astype(\"int32\")\r\n",
        "\r\n",
        "f_train=0\r\n",
        "f_test=0\r\n",
        "\r\n",
        "for i in range(len(y_train)):\r\n",
        "  if y_result_train[i] != y_train[i]:\r\n",
        "    f_train += 1\r\n",
        "for i in range(len(y_test)):\r\n",
        "  if y_result_test[i] != y_test[i]:\r\n",
        "    f_test += 1\r\n",
        "  \r\n",
        "print(\"Liczba bledow ciagu treningowego:\", f_train)\r\n",
        "print(\"Procent popelnionych bledow: %.2f %%\" % (f_train/(len(y_train))*100))\r\n",
        "print(\"Efektywnosc: %.2f %%\" % (100-(f_train/(len(y_train))*100)))\r\n",
        "\r\n",
        "print(\"Liczba bledow ciagu testowego:\", f_test)\r\n",
        "print(\"Procent popelnionych bledow: %.2f %%\" % (f_test/(len(y_test))*100))\r\n",
        "print(\"Efektywnosc: %.2f %%\" % (100-(f_test/(len(y_test))*100)))"
      ],
      "execution_count": 940,
      "outputs": [
        {
          "output_type": "stream",
          "text": [
            "Liczba bledow ciagu treningowego: 0\n",
            "Procent popelnionych bledow: 0.00 %\n",
            "Efektywnosc: 100.00 %\n",
            "Liczba bledow ciagu testowego: 0\n",
            "Procent popelnionych bledow: 0.00 %\n",
            "Efektywnosc: 100.00 %\n"
          ],
          "name": "stdout"
        }
      ]
    },
    {
      "cell_type": "markdown",
      "metadata": {
        "id": "OhKWV-Hsl1Jw"
      },
      "source": [
        "### Zad. 2 - Rozpoznawanie pojedynczego kwiatu irysa, pozostałe kwiaty irysa"
      ]
    },
    {
      "cell_type": "markdown",
      "metadata": {
        "id": "yQwtmINLmpWv"
      },
      "source": [
        "**Versicolor**"
      ]
    },
    {
      "cell_type": "code",
      "metadata": {
        "id": "Sm3dNVLLmj54"
      },
      "source": [
        "#stworzenie kolumny 'y' zawierającej 1 dla rodzaju 'Versicolor' i 0 dla pozostałych\r\n",
        "#w celu nauki przez sieć neuronową\r\n",
        "dataframe['y'] = dataframe['variety']\r\n",
        "dataframe['y'] = dataframe['y'].replace('Setosa', 0.0)\r\n",
        "dataframe['y'] = dataframe['y'].replace('Versicolor', 1.0)\r\n",
        "dataframe['y'] = dataframe['y'].replace('Virginica', 0.0)"
      ],
      "execution_count": 941,
      "outputs": []
    },
    {
      "cell_type": "code",
      "metadata": {
        "colab": {
          "base_uri": "https://localhost:8080/",
          "height": 0
        },
        "id": "sPS5sT_Dm8JT",
        "outputId": "d9fd0c85-de5d-44ca-8ef2-45f2d26dc5e4"
      },
      "source": [
        "print(dataframe)"
      ],
      "execution_count": 942,
      "outputs": [
        {
          "output_type": "stream",
          "text": [
            "     sepal.length  sepal.width  petal.length  petal.width    variety    y\n",
            "0             5.1          3.5           1.4          0.2     Setosa  0.0\n",
            "1             4.9          3.0           1.4          0.2     Setosa  0.0\n",
            "2             4.7          3.2           1.3          0.2     Setosa  0.0\n",
            "3             4.6          3.1           1.5          0.2     Setosa  0.0\n",
            "4             5.0          3.6           1.4          0.2     Setosa  0.0\n",
            "..            ...          ...           ...          ...        ...  ...\n",
            "145           6.7          3.0           5.2          2.3  Virginica  0.0\n",
            "146           6.3          2.5           5.0          1.9  Virginica  0.0\n",
            "147           6.5          3.0           5.2          2.0  Virginica  0.0\n",
            "148           6.2          3.4           5.4          2.3  Virginica  0.0\n",
            "149           5.9          3.0           5.1          1.8  Virginica  0.0\n",
            "\n",
            "[150 rows x 6 columns]\n"
          ],
          "name": "stdout"
        }
      ]
    },
    {
      "cell_type": "code",
      "metadata": {
        "id": "Fq9XB_wFnHP7"
      },
      "source": [
        "#część wejściowa X\r\n",
        "x = dataframe[ ['sepal.length', 'sepal.width', 'petal.length', 'petal.width'] ]\r\n",
        "#wartości oczekiwane, wzorcowe Y\r\n",
        "y = dataframe['y']"
      ],
      "execution_count": 943,
      "outputs": []
    },
    {
      "cell_type": "code",
      "metadata": {
        "id": "IU_jsMasnLmq"
      },
      "source": [
        "#podział ciągu proporconalnie na 80% próbek treningowych i 20% testowych\r\n",
        "#przy zachowaniu proporcji 0 i 1 w wektorze Y\r\n",
        "x_train, x_test, y_train, y_test = train_test_split(x, y, stratify=y, test_size=0.2)"
      ],
      "execution_count": 944,
      "outputs": []
    },
    {
      "cell_type": "code",
      "metadata": {
        "id": "io2gaYxenSsz"
      },
      "source": [
        "#zamiana danych na tablice numpy\r\n",
        "x_train = x_train.to_numpy()\r\n",
        "x_test = x_test.to_numpy()\r\n",
        "y_train = y_train.to_numpy()\r\n",
        "y_test = y_test.to_numpy()"
      ],
      "execution_count": 945,
      "outputs": []
    },
    {
      "cell_type": "markdown",
      "metadata": {
        "id": "3qLQLldQmESs"
      },
      "source": [
        " - 3 warstwy \r\n",
        "    - w 1 warstwie: 6 neurony\r\n",
        "    - w 2 warstwie: 4 neurony\r\n",
        "    - w 3 warstwie: 1 neuron\r\n",
        "\r\n",
        " - 35 epok"
      ]
    },
    {
      "cell_type": "code",
      "metadata": {
        "id": "ZI9sumdjl02C"
      },
      "source": [
        "#Przygotowanie modelu sieci neuronowej\r\n",
        "\r\n",
        "M=6 #liczba neuronów w 1 warstwie\r\n",
        "N=4 #liczba neuronów w 2 warstwie\r\n",
        "model = Sequential()  \r\n",
        "model.add( Dense(M, activation='relu', input_dim=4) ) #warstwa1\r\n",
        "model.add( Dense(N, activation='relu') )              #warstwa2\r\n",
        "model.add( Dense(1, activation='sigmoid') )           #warstwa3\r\n",
        "model.compile(optimizer=\"adam\", loss=\"binary_crossentropy\")"
      ],
      "execution_count": 956,
      "outputs": []
    },
    {
      "cell_type": "code",
      "metadata": {
        "colab": {
          "base_uri": "https://localhost:8080/",
          "height": 0
        },
        "id": "IpfByuVsndkA",
        "outputId": "28a93364-9de5-43d2-ffb3-94433c69074d"
      },
      "source": [
        "#Uczenie sieci neuronowej\r\n",
        "\r\n",
        "E=35  #liczba epok uczenia \r\n",
        "history = model.fit(x_train, y_train, epochs=E, batch_size=1, verbose=1)"
      ],
      "execution_count": 957,
      "outputs": [
        {
          "output_type": "stream",
          "text": [
            "Epoch 1/35\n",
            "120/120 [==============================] - 0s 955us/step - loss: 0.7916\n",
            "Epoch 2/35\n",
            "120/120 [==============================] - 0s 955us/step - loss: 0.5983\n",
            "Epoch 3/35\n",
            "120/120 [==============================] - 0s 989us/step - loss: 0.6341\n",
            "Epoch 4/35\n",
            "120/120 [==============================] - 0s 824us/step - loss: 0.6003\n",
            "Epoch 5/35\n",
            "120/120 [==============================] - 0s 908us/step - loss: 0.6010\n",
            "Epoch 6/35\n",
            "120/120 [==============================] - 0s 1ms/step - loss: 0.5971\n",
            "Epoch 7/35\n",
            "120/120 [==============================] - 0s 823us/step - loss: 0.6032\n",
            "Epoch 8/35\n",
            "120/120 [==============================] - 0s 974us/step - loss: 0.6106\n",
            "Epoch 9/35\n",
            "120/120 [==============================] - 0s 893us/step - loss: 0.5681\n",
            "Epoch 10/35\n",
            "120/120 [==============================] - 0s 929us/step - loss: 0.5959\n",
            "Epoch 11/35\n",
            "120/120 [==============================] - 0s 932us/step - loss: 0.5627\n",
            "Epoch 12/35\n",
            "120/120 [==============================] - 0s 903us/step - loss: 0.5553\n",
            "Epoch 13/35\n",
            "120/120 [==============================] - 0s 1ms/step - loss: 0.5404\n",
            "Epoch 14/35\n",
            "120/120 [==============================] - 0s 935us/step - loss: 0.5515\n",
            "Epoch 15/35\n",
            "120/120 [==============================] - 0s 930us/step - loss: 0.5177\n",
            "Epoch 16/35\n",
            "120/120 [==============================] - 0s 970us/step - loss: 0.4615\n",
            "Epoch 17/35\n",
            "120/120 [==============================] - 0s 961us/step - loss: 0.4270\n",
            "Epoch 18/35\n",
            "120/120 [==============================] - 0s 1ms/step - loss: 0.4267\n",
            "Epoch 19/35\n",
            "120/120 [==============================] - 0s 956us/step - loss: 0.4276\n",
            "Epoch 20/35\n",
            "120/120 [==============================] - 0s 1ms/step - loss: 0.3739\n",
            "Epoch 21/35\n",
            "120/120 [==============================] - 0s 1ms/step - loss: 0.3881\n",
            "Epoch 22/35\n",
            "120/120 [==============================] - 0s 1ms/step - loss: 0.3944\n",
            "Epoch 23/35\n",
            "120/120 [==============================] - 0s 965us/step - loss: 0.3415\n",
            "Epoch 24/35\n",
            "120/120 [==============================] - 0s 1ms/step - loss: 0.3667\n",
            "Epoch 25/35\n",
            "120/120 [==============================] - 0s 959us/step - loss: 0.3273\n",
            "Epoch 26/35\n",
            "120/120 [==============================] - 0s 957us/step - loss: 0.3446\n",
            "Epoch 27/35\n",
            "120/120 [==============================] - 0s 980us/step - loss: 0.3355\n",
            "Epoch 28/35\n",
            "120/120 [==============================] - 0s 1ms/step - loss: 0.3131\n",
            "Epoch 29/35\n",
            "120/120 [==============================] - 0s 918us/step - loss: 0.2854\n",
            "Epoch 30/35\n",
            "120/120 [==============================] - 0s 977us/step - loss: 0.2735\n",
            "Epoch 31/35\n",
            "120/120 [==============================] - 0s 1ms/step - loss: 0.2824\n",
            "Epoch 32/35\n",
            "120/120 [==============================] - 0s 976us/step - loss: 0.2885\n",
            "Epoch 33/35\n",
            "120/120 [==============================] - 0s 1ms/step - loss: 0.3113\n",
            "Epoch 34/35\n",
            "120/120 [==============================] - 0s 1000us/step - loss: 0.1855\n",
            "Epoch 35/35\n",
            "120/120 [==============================] - 0s 975us/step - loss: 0.2616\n"
          ],
          "name": "stdout"
        }
      ]
    },
    {
      "cell_type": "code",
      "metadata": {
        "colab": {
          "base_uri": "https://localhost:8080/",
          "height": 295
        },
        "id": "kUH5jrixnjU8",
        "outputId": "4b4e861f-7fc4-4c74-b1be-4a46b2a0bb31"
      },
      "source": [
        "#wykres wartości funkcji celu\r\n",
        "plt.plot(history.history['loss'])\r\n",
        "plt.title('Model loss')\r\n",
        "plt.ylabel('Loss')\r\n",
        "plt.xlabel('Epoch')\r\n",
        "plt.legend(['Train'],loc='upper left')\r\n",
        "plt.show()"
      ],
      "execution_count": 958,
      "outputs": [
        {
          "output_type": "display_data",
          "data": {
            "image/png": "[encoded data removed]",
            "text/plain": [
              "<Figure size 432x288 with 1 Axes>"
            ]
          },
          "metadata": {
            "tags": [],
            "needs_background": "light"
          }
        }
      ]
    },
    {
      "cell_type": "code",
      "metadata": {
        "colab": {
          "base_uri": "https://localhost:8080/",
          "height": 0
        },
        "id": "jFkXG7XWnk8h",
        "outputId": "d8e2efb3-d413-4003-add9-445a6893972a"
      },
      "source": [
        "#Testowanie skuteczności sieci\r\n",
        "y_result_train = (model.predict(x_train) > 0.5).astype(\"int32\")\r\n",
        "y_result_test = (model.predict(x_test) > 0.5).astype(\"int32\")\r\n",
        "\r\n",
        "f_train=0\r\n",
        "f_test=0\r\n",
        "for i in range(len(y_train)):\r\n",
        "  if y_result_train[i] != y_train[i]:\r\n",
        "    f_train += 1\r\n",
        "for i in range(len(y_test)):\r\n",
        "  if y_result_test[i] != y_test[i]:\r\n",
        "    f_test += 1\r\n",
        "  \r\n",
        "print(\"Liczba bledow ciagu treningowego:\", f_train)\r\n",
        "print(\"Procent popelnionych bledow: %.2f %%\" % (f_train/(len(y_train))*100))\r\n",
        "print(\"Efektywnosc: %.2f %%\" % (100-(f_train/(len(y_train))*100)))\r\n",
        "\r\n",
        "print(\"Liczba bledow ciagu testowego:\", f_test)\r\n",
        "print(\"Procent popelnionych bledow: %.2f %%\" % (f_test/(len(y_test))*100))\r\n",
        "print(\"Efektywnosc: %.2f %%\" % (100-(f_test/(len(y_test))*100)))"
      ],
      "execution_count": 959,
      "outputs": [
        {
          "output_type": "stream",
          "text": [
            "Liczba bledow ciagu treningowego: 5\n",
            "Procent popelnionych bledow: 4.17 %\n",
            "Efektywnosc: 95.83 %\n",
            "Liczba bledow ciagu testowego: 1\n",
            "Procent popelnionych bledow: 3.33 %\n",
            "Efektywnosc: 96.67 %\n"
          ],
          "name": "stdout"
        }
      ]
    },
    {
      "cell_type": "markdown",
      "metadata": {
        "id": "Ludm6NNkqOYq"
      },
      "source": [
        "**Virginica**"
      ]
    },
    {
      "cell_type": "code",
      "metadata": {
        "id": "zWQ-8r7pqLMk"
      },
      "source": [
        "#stworzenie kolumny 'y' zawierającej 1 dla rodzaju 'Versicolor' i 0 dla pozostałych\r\n",
        "#w celu nauki przez sieć neuronową\r\n",
        "dataframe['y'] = dataframe['variety']\r\n",
        "dataframe['y'] = dataframe['y'].replace('Setosa', 0.0)\r\n",
        "dataframe['y'] = dataframe['y'].replace('Versicolor', 0.0)\r\n",
        "dataframe['y'] = dataframe['y'].replace('Virginica', 1.0)"
      ],
      "execution_count": 960,
      "outputs": []
    },
    {
      "cell_type": "code",
      "metadata": {
        "colab": {
          "base_uri": "https://localhost:8080/",
          "height": 0
        },
        "id": "4u65rD5LqW4b",
        "outputId": "afb4271c-8348-45b8-d726-1c1134439a8b"
      },
      "source": [
        "print(dataframe)"
      ],
      "execution_count": 961,
      "outputs": [
        {
          "output_type": "stream",
          "text": [
            "     sepal.length  sepal.width  petal.length  petal.width    variety    y\n",
            "0             5.1          3.5           1.4          0.2     Setosa  0.0\n",
            "1             4.9          3.0           1.4          0.2     Setosa  0.0\n",
            "2             4.7          3.2           1.3          0.2     Setosa  0.0\n",
            "3             4.6          3.1           1.5          0.2     Setosa  0.0\n",
            "4             5.0          3.6           1.4          0.2     Setosa  0.0\n",
            "..            ...          ...           ...          ...        ...  ...\n",
            "145           6.7          3.0           5.2          2.3  Virginica  1.0\n",
            "146           6.3          2.5           5.0          1.9  Virginica  1.0\n",
            "147           6.5          3.0           5.2          2.0  Virginica  1.0\n",
            "148           6.2          3.4           5.4          2.3  Virginica  1.0\n",
            "149           5.9          3.0           5.1          1.8  Virginica  1.0\n",
            "\n",
            "[150 rows x 6 columns]\n"
          ],
          "name": "stdout"
        }
      ]
    },
    {
      "cell_type": "code",
      "metadata": {
        "id": "QMhhPn4Fqa_d"
      },
      "source": [
        "#część wejściowa X\r\n",
        "x = dataframe[ ['sepal.length', 'sepal.width', 'petal.length', 'petal.width'] ]\r\n",
        "#wartości oczekiwane, wzorcowe Y\r\n",
        "y = dataframe['y']"
      ],
      "execution_count": 962,
      "outputs": []
    },
    {
      "cell_type": "code",
      "metadata": {
        "id": "cGu98T-8qebW"
      },
      "source": [
        "#podział ciągu proporconalnie na 80% próbek treningowych i 20% testowych\r\n",
        "#przy zachowaniu proporcji 0 i 1 w wektorze Y\r\n",
        "x_train, x_test, y_train, y_test = train_test_split(x, y, stratify=y, test_size=0.2)"
      ],
      "execution_count": 963,
      "outputs": []
    },
    {
      "cell_type": "code",
      "metadata": {
        "id": "QVqlnloiqhl2"
      },
      "source": [
        "#zamiana danych na tablice numpy\r\n",
        "x_train = x_train.to_numpy()\r\n",
        "x_test = x_test.to_numpy()\r\n",
        "y_train = y_train.to_numpy()\r\n",
        "y_test = y_test.to_numpy()"
      ],
      "execution_count": 964,
      "outputs": []
    },
    {
      "cell_type": "markdown",
      "metadata": {
        "id": "J3XIRHzvq-5E"
      },
      "source": [
        " - 3 warstwy \r\n",
        "    - w 1 warstwie: 6 neurony\r\n",
        "    - w 2 warstwie: 4 neurony\r\n",
        "    - w 3 warstwie: 1 neuron\r\n",
        "\r\n",
        " - 35 epok"
      ]
    },
    {
      "cell_type": "code",
      "metadata": {
        "id": "UYKdwyszqxAl"
      },
      "source": [
        "#Przygotowanie modelu sieci neuronowej\r\n",
        "\r\n",
        "M=6 #liczba neuronów w 1 warstwie\r\n",
        "N=4 #liczba neuronów w 2 warstwie\r\n",
        "model = Sequential()  \r\n",
        "model.add( Dense(M, activation='relu', input_dim=4) ) #warstwa1\r\n",
        "model.add( Dense(N, activation='relu') )              #warstwa2\r\n",
        "model.add( Dense(1, activation='sigmoid') )           #warstwa3\r\n",
        "model.compile(optimizer=\"adam\", loss=\"binary_crossentropy\")"
      ],
      "execution_count": 965,
      "outputs": []
    },
    {
      "cell_type": "code",
      "metadata": {
        "colab": {
          "base_uri": "https://localhost:8080/",
          "height": 0
        },
        "id": "GIu-DZ8Pqzb8",
        "outputId": "860eff43-fedd-48f9-a059-1b20b9a77106"
      },
      "source": [
        "#Uczenie sieci neuronowej\r\n",
        "\r\n",
        "E=35  #liczba epok uczenia \r\n",
        "history = model.fit(x_train, y_train, epochs=E, batch_size=1, verbose=1)"
      ],
      "execution_count": 966,
      "outputs": [
        {
          "output_type": "stream",
          "text": [
            "Epoch 1/35\n",
            "120/120 [==============================] - 0s 1ms/step - loss: 0.7777\n",
            "Epoch 2/35\n",
            "120/120 [==============================] - 0s 1ms/step - loss: 0.6569\n",
            "Epoch 3/35\n",
            "120/120 [==============================] - 0s 972us/step - loss: 0.5998\n",
            "Epoch 4/35\n",
            "120/120 [==============================] - 0s 986us/step - loss: 0.4762\n",
            "Epoch 5/35\n",
            "120/120 [==============================] - 0s 1ms/step - loss: 0.4215\n",
            "Epoch 6/35\n",
            "120/120 [==============================] - 0s 1ms/step - loss: 0.3892\n",
            "Epoch 7/35\n",
            "120/120 [==============================] - 0s 978us/step - loss: 0.3544\n",
            "Epoch 8/35\n",
            "120/120 [==============================] - 0s 967us/step - loss: 0.3677\n",
            "Epoch 9/35\n",
            "120/120 [==============================] - 0s 1ms/step - loss: 0.3110\n",
            "Epoch 10/35\n",
            "120/120 [==============================] - 0s 1ms/step - loss: 0.3084\n",
            "Epoch 11/35\n",
            "120/120 [==============================] - 0s 1ms/step - loss: 0.2815\n",
            "Epoch 12/35\n",
            "120/120 [==============================] - 0s 1ms/step - loss: 0.2575\n",
            "Epoch 13/35\n",
            "120/120 [==============================] - 0s 1ms/step - loss: 0.2655\n",
            "Epoch 14/35\n",
            "120/120 [==============================] - 0s 1ms/step - loss: 0.2612\n",
            "Epoch 15/35\n",
            "120/120 [==============================] - 0s 991us/step - loss: 0.1953\n",
            "Epoch 16/35\n",
            "120/120 [==============================] - 0s 1ms/step - loss: 0.1903\n",
            "Epoch 17/35\n",
            "120/120 [==============================] - 0s 1ms/step - loss: 0.1919\n",
            "Epoch 18/35\n",
            "120/120 [==============================] - 0s 1ms/step - loss: 0.2106\n",
            "Epoch 19/35\n",
            "120/120 [==============================] - 0s 1ms/step - loss: 0.1822\n",
            "Epoch 20/35\n",
            "120/120 [==============================] - 0s 1ms/step - loss: 0.1698\n",
            "Epoch 21/35\n",
            "120/120 [==============================] - 0s 1ms/step - loss: 0.1760\n",
            "Epoch 22/35\n",
            "120/120 [==============================] - 0s 1ms/step - loss: 0.1483\n",
            "Epoch 23/35\n",
            "120/120 [==============================] - 0s 1ms/step - loss: 0.1107\n",
            "Epoch 24/35\n",
            "120/120 [==============================] - 0s 1ms/step - loss: 0.1311\n",
            "Epoch 25/35\n",
            "120/120 [==============================] - 0s 1ms/step - loss: 0.1693\n",
            "Epoch 26/35\n",
            "120/120 [==============================] - 0s 1ms/step - loss: 0.1326\n",
            "Epoch 27/35\n",
            "120/120 [==============================] - 0s 1ms/step - loss: 0.1244\n",
            "Epoch 28/35\n",
            "120/120 [==============================] - 0s 1ms/step - loss: 0.1422\n",
            "Epoch 29/35\n",
            "120/120 [==============================] - 0s 961us/step - loss: 0.0912\n",
            "Epoch 30/35\n",
            "120/120 [==============================] - 0s 1ms/step - loss: 0.1318\n",
            "Epoch 31/35\n",
            "120/120 [==============================] - 0s 1ms/step - loss: 0.1083\n",
            "Epoch 32/35\n",
            "120/120 [==============================] - 0s 1ms/step - loss: 0.1449\n",
            "Epoch 33/35\n",
            "120/120 [==============================] - 0s 984us/step - loss: 0.1112\n",
            "Epoch 34/35\n",
            "120/120 [==============================] - 0s 978us/step - loss: 0.1724\n",
            "Epoch 35/35\n",
            "120/120 [==============================] - 0s 1ms/step - loss: 0.1089\n"
          ],
          "name": "stdout"
        }
      ]
    },
    {
      "cell_type": "code",
      "metadata": {
        "colab": {
          "base_uri": "https://localhost:8080/",
          "height": 295
        },
        "id": "xiD6pHkjq3hS",
        "outputId": "a7ff6eea-44dd-475f-ccf0-d7e3205bf96f"
      },
      "source": [
        "#wykres wartości funkcji celu\r\n",
        "plt.plot(history.history['loss'])\r\n",
        "plt.title('Model loss')\r\n",
        "plt.ylabel('Loss')\r\n",
        "plt.xlabel('Epoch')\r\n",
        "plt.legend(['Train'],loc='upper left')\r\n",
        "plt.show()"
      ],
      "execution_count": 967,
      "outputs": [
        {
          "output_type": "display_data",
          "data": {
            "image/png": "[encoded data removed]",
            "text/plain": [
              "<Figure size 432x288 with 1 Axes>"
            ]
          },
          "metadata": {
            "tags": [],
            "needs_background": "light"
          }
        }
      ]
    },
    {
      "cell_type": "code",
      "metadata": {
        "colab": {
          "base_uri": "https://localhost:8080/",
          "height": 0
        },
        "id": "cEM9s1unq55z",
        "outputId": "319a5650-4f5c-47eb-f5b8-f7380f04c48e"
      },
      "source": [
        "#Testowanie skuteczności sieci\r\n",
        "y_result_train = (model.predict(x_train) > 0.5).astype(\"int32\")\r\n",
        "y_result_test = (model.predict(x_test) > 0.5).astype(\"int32\")\r\n",
        "\r\n",
        "f_train=0\r\n",
        "f_test=0\r\n",
        "for i in range(len(y_train)):\r\n",
        "  if y_result_train[i] != y_train[i]:\r\n",
        "    f_train += 1\r\n",
        "for i in range(len(y_test)):\r\n",
        "  if y_result_test[i] != y_test[i]:\r\n",
        "    f_test += 1\r\n",
        "  \r\n",
        "print(\"Liczba bledow ciagu treningowego:\", f_train)\r\n",
        "print(\"Procent popelnionych bledow: %.2f %%\" % (f_train/(len(y_train))*100))\r\n",
        "print(\"Efektywnosc: %.2f %%\" % (100-(f_train/(len(y_train))*100)))\r\n",
        "\r\n",
        "print(\"Liczba bledow ciagu testowego:\", f_test)\r\n",
        "print(\"Procent popelnionych bledow: %.2f %%\" % (f_test/(len(y_test))*100))\r\n",
        "print(\"Efektywnosc: %.2f %%\" % (100-(f_test/(len(y_test))*100)))"
      ],
      "execution_count": 968,
      "outputs": [
        {
          "output_type": "stream",
          "text": [
            "Liczba bledow ciagu treningowego: 6\n",
            "Procent popelnionych bledow: 5.00 %\n",
            "Efektywnosc: 95.00 %\n",
            "Liczba bledow ciagu testowego: 1\n",
            "Procent popelnionych bledow: 3.33 %\n",
            "Efektywnosc: 96.67 %\n"
          ],
          "name": "stdout"
        }
      ]
    },
    {
      "cell_type": "markdown",
      "metadata": {
        "id": "HwVbbBYErn9P"
      },
      "source": [
        "### Zad. 3 - Rozpoznawanie wszystkich kwiatów irysa na raz "
      ]
    },
    {
      "cell_type": "code",
      "metadata": {
        "id": "YWRxEgZkruCP"
      },
      "source": [
        "#stworzenie kolumny 'y' zawierającej 1 dla rodzaju 'Versicolor' i 0 dla pozostałych\r\n",
        "#w celu nauki przez sieć neuronową (sieć neuronowa będzie mieć 3 wyjścia)\r\n",
        "#przygotowanie 3 kolumn y, y2, y3\r\n",
        "#y oznacza  'Setosa'\r\n",
        "#y2 oznacza 'Versicolor'\r\n",
        "#y3 oznacza 'Virginica'\r\n",
        "dataframe['y'] = dataframe['variety']\r\n",
        "dataframe['y'] = dataframe['y'].replace('Setosa', 1.0)\r\n",
        "dataframe['y'] = dataframe['y'].replace('Versicolor', 0.0)\r\n",
        "dataframe['y'] = dataframe['y'].replace('Virginica', 0.0)\r\n",
        "\r\n",
        "dataframe['y2'] = dataframe['variety']\r\n",
        "dataframe['y2'] = dataframe['y2'].replace('Setosa', 0.0)\r\n",
        "dataframe['y2'] = dataframe['y2'].replace('Versicolor', 1.0)\r\n",
        "dataframe['y2'] = dataframe['y2'].replace('Virginica', 0.0)\r\n",
        "\r\n",
        "dataframe['y3'] = dataframe['variety']\r\n",
        "dataframe['y3'] = dataframe['y3'].replace('Setosa', 0.0)\r\n",
        "dataframe['y3'] = dataframe['y3'].replace('Versicolor', 0.0)\r\n",
        "dataframe['y3'] = dataframe['y3'].replace('Virginica', 1.0)"
      ],
      "execution_count": 969,
      "outputs": []
    },
    {
      "cell_type": "code",
      "metadata": {
        "colab": {
          "base_uri": "https://localhost:8080/",
          "height": 0
        },
        "id": "I2M8kxfpsvbt",
        "outputId": "cca4b4cc-e148-48f5-f50d-a12ca948b965"
      },
      "source": [
        "print(dataframe)"
      ],
      "execution_count": 970,
      "outputs": [
        {
          "output_type": "stream",
          "text": [
            "     sepal.length  sepal.width  petal.length  ...    y   y2   y3\n",
            "0             5.1          3.5           1.4  ...  1.0  0.0  0.0\n",
            "1             4.9          3.0           1.4  ...  1.0  0.0  0.0\n",
            "2             4.7          3.2           1.3  ...  1.0  0.0  0.0\n",
            "3             4.6          3.1           1.5  ...  1.0  0.0  0.0\n",
            "4             5.0          3.6           1.4  ...  1.0  0.0  0.0\n",
            "..            ...          ...           ...  ...  ...  ...  ...\n",
            "145           6.7          3.0           5.2  ...  0.0  0.0  1.0\n",
            "146           6.3          2.5           5.0  ...  0.0  0.0  1.0\n",
            "147           6.5          3.0           5.2  ...  0.0  0.0  1.0\n",
            "148           6.2          3.4           5.4  ...  0.0  0.0  1.0\n",
            "149           5.9          3.0           5.1  ...  0.0  0.0  1.0\n",
            "\n",
            "[150 rows x 8 columns]\n"
          ],
          "name": "stdout"
        }
      ]
    },
    {
      "cell_type": "code",
      "metadata": {
        "id": "ZpmavpbDtJQH"
      },
      "source": [
        "#część wejściowa X\r\n",
        "x = dataframe[ ['sepal.length', 'sepal.width', 'petal.length', 'petal.width'] ]\r\n",
        "#wartości oczekiwane, wzorcowe Y\r\n",
        "y = dataframe[ ['y', 'y2', 'y3'] ]    #3 wyjścia - 3 wartości oczekiwane"
      ],
      "execution_count": 971,
      "outputs": []
    },
    {
      "cell_type": "code",
      "metadata": {
        "id": "qR_MoBWjtghN"
      },
      "source": [
        "#podział ciągu proporconalnie na 80% próbek treningowych i 20% testowych\r\n",
        "x_train, x_test, y_train, y_test = train_test_split(x, y, stratify=y, test_size=0.2)"
      ],
      "execution_count": 972,
      "outputs": []
    },
    {
      "cell_type": "code",
      "metadata": {
        "id": "IyVGIo6jtowz"
      },
      "source": [
        "#zamiana danych na tablice numpy\r\n",
        "x_train = x_train.to_numpy()\r\n",
        "x_test = x_test.to_numpy()\r\n",
        "y_train = y_train.to_numpy()\r\n",
        "y_test = y_test.to_numpy()"
      ],
      "execution_count": 973,
      "outputs": []
    },
    {
      "cell_type": "markdown",
      "metadata": {
        "id": "Ym6yWhLvuEK0"
      },
      "source": [
        " - 3 warstwy \r\n",
        "    - w 1 warstwie: 6 neurony\r\n",
        "    - w 2 warstwie: 4 neurony\r\n",
        "    - w 3 warstwie: 3 neurony - 3 wartości wyjściowe\r\n",
        "\r\n",
        " - 35 epok"
      ]
    },
    {
      "cell_type": "code",
      "metadata": {
        "id": "9CWsGufytzhL"
      },
      "source": [
        "#Przygotowanie modelu sieci neuronowej\r\n",
        "\r\n",
        "M=6 #liczba neuronów w 1 warstwie\r\n",
        "N=4 #liczba neuronów w 2 warstwie\r\n",
        "model = Sequential()  \r\n",
        "model.add( Dense(M, activation='relu', input_dim=4) ) #warstwa1\r\n",
        "model.add( Dense(N, activation='relu') )              #warstwa2\r\n",
        "model.add( Dense(3, activation='sigmoid') )           #warstwa3 <- 3 neurony\r\n",
        "model.compile(optimizer=\"adam\", loss=\"binary_crossentropy\")"
      ],
      "execution_count": 974,
      "outputs": []
    },
    {
      "cell_type": "code",
      "metadata": {
        "colab": {
          "base_uri": "https://localhost:8080/",
          "height": 0
        },
        "id": "bPTraxGQt4F8",
        "outputId": "6434fc1e-b7be-41cd-9bb4-0933d50ce1b0"
      },
      "source": [
        "#Uczenie sieci neuronowej\r\n",
        "\r\n",
        "E=35  #liczba epok uczenia \r\n",
        "history = model.fit(x_train, y_train, epochs=E, batch_size=1, verbose=1)"
      ],
      "execution_count": 975,
      "outputs": [
        {
          "output_type": "stream",
          "text": [
            "Epoch 1/35\n",
            "120/120 [==============================] - 0s 841us/step - loss: 1.1958\n",
            "Epoch 2/35\n",
            "120/120 [==============================] - 0s 875us/step - loss: 0.8173\n",
            "Epoch 3/35\n",
            "120/120 [==============================] - 0s 825us/step - loss: 0.5570\n",
            "Epoch 4/35\n",
            "120/120 [==============================] - 0s 969us/step - loss: 0.5332\n",
            "Epoch 5/35\n",
            "120/120 [==============================] - 0s 821us/step - loss: 0.5092\n",
            "Epoch 6/35\n",
            "120/120 [==============================] - 0s 888us/step - loss: 0.4635\n",
            "Epoch 7/35\n",
            "120/120 [==============================] - 0s 924us/step - loss: 0.4122\n",
            "Epoch 8/35\n",
            "120/120 [==============================] - 0s 900us/step - loss: 0.4187\n",
            "Epoch 9/35\n",
            "120/120 [==============================] - 0s 958us/step - loss: 0.4352\n",
            "Epoch 10/35\n",
            "120/120 [==============================] - 0s 918us/step - loss: 0.3689\n",
            "Epoch 11/35\n",
            "120/120 [==============================] - 0s 937us/step - loss: 0.3493\n",
            "Epoch 12/35\n",
            "120/120 [==============================] - 0s 953us/step - loss: 0.3436\n",
            "Epoch 13/35\n",
            "120/120 [==============================] - 0s 938us/step - loss: 0.3676\n",
            "Epoch 14/35\n",
            "120/120 [==============================] - 0s 939us/step - loss: 0.3530\n",
            "Epoch 15/35\n",
            "120/120 [==============================] - 0s 825us/step - loss: 0.3014\n",
            "Epoch 16/35\n",
            "120/120 [==============================] - 0s 828us/step - loss: 0.3301\n",
            "Epoch 17/35\n",
            "120/120 [==============================] - 0s 1ms/step - loss: 0.2911\n",
            "Epoch 18/35\n",
            "120/120 [==============================] - 0s 816us/step - loss: 0.3355\n",
            "Epoch 19/35\n",
            "120/120 [==============================] - 0s 944us/step - loss: 0.2679\n",
            "Epoch 20/35\n",
            "120/120 [==============================] - 0s 956us/step - loss: 0.2854\n",
            "Epoch 21/35\n",
            "120/120 [==============================] - 0s 1ms/step - loss: 0.2634\n",
            "Epoch 22/35\n",
            "120/120 [==============================] - 0s 904us/step - loss: 0.2587\n",
            "Epoch 23/35\n",
            "120/120 [==============================] - 0s 839us/step - loss: 0.2254\n",
            "Epoch 24/35\n",
            "120/120 [==============================] - 0s 946us/step - loss: 0.2624\n",
            "Epoch 25/35\n",
            "120/120 [==============================] - 0s 891us/step - loss: 0.2416\n",
            "Epoch 26/35\n",
            "120/120 [==============================] - 0s 935us/step - loss: 0.2200\n",
            "Epoch 27/35\n",
            "120/120 [==============================] - 0s 821us/step - loss: 0.2245\n",
            "Epoch 28/35\n",
            "120/120 [==============================] - 0s 858us/step - loss: 0.2194\n",
            "Epoch 29/35\n",
            "120/120 [==============================] - 0s 911us/step - loss: 0.2049\n",
            "Epoch 30/35\n",
            "120/120 [==============================] - 0s 1ms/step - loss: 0.2038\n",
            "Epoch 31/35\n",
            "120/120 [==============================] - 0s 941us/step - loss: 0.1961\n",
            "Epoch 32/35\n",
            "120/120 [==============================] - 0s 871us/step - loss: 0.1711\n",
            "Epoch 33/35\n",
            "120/120 [==============================] - 0s 901us/step - loss: 0.1858\n",
            "Epoch 34/35\n",
            "120/120 [==============================] - 0s 930us/step - loss: 0.1954\n",
            "Epoch 35/35\n",
            "120/120 [==============================] - 0s 835us/step - loss: 0.1870\n"
          ],
          "name": "stdout"
        }
      ]
    },
    {
      "cell_type": "code",
      "metadata": {
        "colab": {
          "base_uri": "https://localhost:8080/",
          "height": 295
        },
        "id": "OoKGaVZZt6c-",
        "outputId": "8d1dbadd-83e5-49ef-dc3c-6e3ed1642841"
      },
      "source": [
        "\r\n",
        "\r\n",
        "\r\n",
        "\r\n",
        "\r\n",
        "#wykres wartości funkcji celu\r\n",
        "plt.plot(history.history['loss'])\r\n",
        "plt.title('Model loss')\r\n",
        "plt.ylabel('Loss')\r\n",
        "plt.xlabel('Epoch')\r\n",
        "plt.legend(['Train'],loc='upper left')\r\n",
        "plt.show()"
      ],
      "execution_count": 976,
      "outputs": [
        {
          "output_type": "display_data",
          "data": {
            "image/png": "[encoded data removed]",
            "text/plain": [
              "<Figure size 432x288 with 1 Axes>"
            ]
          },
          "metadata": {
            "tags": [],
            "needs_background": "light"
          }
        }
      ]
    },
    {
      "cell_type": "code",
      "metadata": {
        "colab": {
          "base_uri": "https://localhost:8080/",
          "height": 0
        },
        "id": "mgTZus7mt8vA",
        "outputId": "e64abb11-5ef2-42d2-f3b2-288776e5855d"
      },
      "source": [
        "#Testowanie skuteczności sieci\r\n",
        "y_result_train = (model.predict(x_train) > 0.5).astype(\"int32\")\r\n",
        "y_result_test = (model.predict(x_test) > 0.5).astype(\"int32\")\r\n",
        "\r\n",
        "f_train=0\r\n",
        "\r\n",
        "f_test=0\r\n",
        "\r\n",
        "for i in range(len(y_train)):   #jeśli którakolwiek z 3 wartości wyjściowych jest\r\n",
        "  if y_result_train[i][0] != y_train[i][0]: # niepoprawna to f_train += 1\r\n",
        "    f_train += 1\r\n",
        "  elif y_result_train[i][1] != y_train[i][1]:\r\n",
        "    f_train += 1\r\n",
        "  elif y_result_train[i][2] != y_train[i][2]:\r\n",
        "    f_train += 1\r\n",
        "\r\n",
        "\r\n",
        "for i in range(len(y_test)):    #jeśli którakolwiek z 3 wartości wyjściowych jest\r\n",
        "  if y_result_test[i][0] != y_test[i][0]:   # niepoprawna to f_test += 1\r\n",
        "    f_test += 1\r\n",
        "  elif y_result_test[i][1] != y_test[i][1]:\r\n",
        "    f_test += 1\r\n",
        "  elif y_result_test[i][2] != y_test[i][2]:\r\n",
        "    f_test += 1\r\n",
        "  \r\n",
        "print(\"Liczba bledow ciagu treningowego:\", f_train)\r\n",
        "print(\"Procent popelnionych bledow: %.2f %%\" % (f_train/(len(y_train))*100))\r\n",
        "print(\"Efektywnosc: %.2f %%\" % (100-(f_train/(len(y_train))*100)))\r\n",
        "\r\n",
        "print(\"Liczba bledow ciagu testowego:\", f_test)\r\n",
        "print(\"Procent popelnionych bledow: %.2f %%\" % (f_test/(len(y_test))*100))\r\n",
        "print(\"Efektywnosc: %.2f %%\" % (100-(f_test/(len(y_test))*100)))"
      ],
      "execution_count": 977,
      "outputs": [
        {
          "output_type": "stream",
          "text": [
            "Liczba bledow ciagu treningowego: 6\n",
            "Procent popelnionych bledow: 5.00 %\n",
            "Efektywnosc: 95.00 %\n",
            "Liczba bledow ciagu testowego: 0\n",
            "Procent popelnionych bledow: 0.00 %\n",
            "Efektywnosc: 100.00 %\n"
          ],
          "name": "stdout"
        }
      ]
    },
    {
      "cell_type": "markdown",
      "metadata": {
        "id": "fWd2Br_cw6ey"
      },
      "source": [
        "## Zadanie 2. Klasyfikacja autentycznych danych medycznych"
      ]
    },
    {
      "cell_type": "code",
      "metadata": {
        "colab": {
          "base_uri": "https://localhost:8080/",
          "height": 0
        },
        "id": "nVFUMTYtzvyC",
        "outputId": "d9439a81-e3bf-40bd-bd71-3a50bd029ab5"
      },
      "source": [
        "#wczytanie ciągu uczącego\r\n",
        "import pandas as pd\r\n",
        "file = 'http://iisi.pcz.pl/~mg/pcz/pid.csv'\r\n",
        "dataframe = pd.read_csv(file)\r\n",
        "print(dataframe)"
      ],
      "execution_count": 978,
      "outputs": [
        {
          "output_type": "stream",
          "text": [
            "     pregnancies  glucose  ...  age  class\n",
            "0              6      148  ...   50      1\n",
            "1              1       85  ...   31      0\n",
            "2              8      183  ...   32      1\n",
            "3              1       89  ...   21      0\n",
            "4              0      137  ...   33      1\n",
            "..           ...      ...  ...  ...    ...\n",
            "763           10      101  ...   63      0\n",
            "764            2      122  ...   27      0\n",
            "765            5      121  ...   30      0\n",
            "766            1      126  ...   47      1\n",
            "767            1       93  ...   23      0\n",
            "\n",
            "[768 rows x 9 columns]\n"
          ],
          "name": "stdout"
        }
      ]
    },
    {
      "cell_type": "code",
      "metadata": {
        "colab": {
          "base_uri": "https://localhost:8080/",
          "height": 0
        },
        "id": "M09MWntL01A9",
        "outputId": "f25d26fc-84e1-497c-efa5-0bab560e12dd"
      },
      "source": [
        "#class (9 kolumna)\r\n",
        "# 0 - osoba zdrowa\r\n",
        "# 1 - osoba chora na cukrzyce\r\n",
        "print(dataframe['class'].unique())"
      ],
      "execution_count": 979,
      "outputs": [
        {
          "output_type": "stream",
          "text": [
            "[1 0]\n"
          ],
          "name": "stdout"
        }
      ]
    },
    {
      "cell_type": "code",
      "metadata": {
        "colab": {
          "base_uri": "https://localhost:8080/",
          "height": 0
        },
        "id": "DzlWdx3e1k7D",
        "outputId": "594a98e6-0c4e-4ee5-bb71-8dafc1b06802"
      },
      "source": [
        "dataframe.columns #nazwy kolumn"
      ],
      "execution_count": 980,
      "outputs": [
        {
          "output_type": "execute_result",
          "data": {
            "text/plain": [
              "Index(['pregnancies', 'glucose', 'blood_pressure', 'skin_thickness', 'insulin',\n",
              "       'bmi', 'diabetes_pedigree_function', 'age', 'class'],\n",
              "      dtype='object')"
            ]
          },
          "metadata": {
            "tags": []
          },
          "execution_count": 980
        }
      ]
    },
    {
      "cell_type": "code",
      "metadata": {
        "id": "-4_XkN771Ydj"
      },
      "source": [
        "#część wejściowa X\r\n",
        "x = dataframe[ ['pregnancies', 'glucose', 'blood_pressure', 'skin_thickness', 'insulin',\r\n",
        "       'bmi', 'diabetes_pedigree_function', 'age'] ]\r\n",
        "\r\n",
        "y = dataframe['class']  #wartości oczekiwane Y"
      ],
      "execution_count": 981,
      "outputs": []
    },
    {
      "cell_type": "code",
      "metadata": {
        "id": "GGLMBar52HgN"
      },
      "source": [
        "#podział ciągu proporconalnie na 80% próbek treningowych i 20% testowych\r\n",
        "x_train, x_test, y_train, y_test = train_test_split(x, y, stratify=y, test_size=0.2)"
      ],
      "execution_count": 982,
      "outputs": []
    },
    {
      "cell_type": "code",
      "metadata": {
        "id": "9_Vvu8Gi2aOZ"
      },
      "source": [
        "#zamiana danych na tablice numpy\r\n",
        "x_train = x_train.to_numpy()\r\n",
        "x_test = x_test.to_numpy()\r\n",
        "y_train = y_train.to_numpy()\r\n",
        "y_test = y_test.to_numpy()"
      ],
      "execution_count": 983,
      "outputs": []
    },
    {
      "cell_type": "markdown",
      "metadata": {
        "id": "Ftq4BBXW2_zi"
      },
      "source": [
        " - 3 warstwy \r\n",
        "    - w 1 warstwie: 16 neuronów\r\n",
        "    - w 2 warstwie: 8 neuronów\r\n",
        "    - w 3 warstwie: 1 neuron\r\n",
        "\r\n",
        " - 800 epok\r\n",
        " - batch_size=80"
      ]
    },
    {
      "cell_type": "code",
      "metadata": {
        "id": "HvR1wyoE2m1k"
      },
      "source": [
        "#Przygotowanie modelu sieci neuronowej\r\n",
        "\r\n",
        "M=16 #liczba neuronów w 1 warstwie\r\n",
        "N=8 #liczba neuronów w 2 warstwie\r\n",
        "# input_dim=8 <- 8 wartości wejściowych\r\n",
        "model = Sequential()  \r\n",
        "model.add( Dense(M, activation='relu', input_dim=8) ) #warstwa1\r\n",
        "model.add( Dense(N, activation='sigmoid') )           #warstwa2\r\n",
        "model.add( Dense(1, activation='sigmoid') )           #warstwa3\r\n",
        "model.compile(optimizer=\"adam\", loss=\"binary_crossentropy\")"
      ],
      "execution_count": 992,
      "outputs": []
    },
    {
      "cell_type": "code",
      "metadata": {
        "id": "QREqx6A43e-b"
      },
      "source": [
        "#Uczenie sieci neuronowej\r\n",
        "\r\n",
        "E=800  #liczba epok uczenia \r\n",
        "history = model.fit(x_train, y_train, epochs=E, batch_size=80, verbose=0)"
      ],
      "execution_count": 993,
      "outputs": []
    },
    {
      "cell_type": "code",
      "metadata": {
        "colab": {
          "base_uri": "https://localhost:8080/",
          "height": 295
        },
        "id": "QjN8EpH-2pH4",
        "outputId": "1499400f-61eb-447c-914f-753953575be9"
      },
      "source": [
        "#wykres wartości funkcji celu\r\n",
        "plt.plot(history.history['loss'])\r\n",
        "plt.title('Model loss')\r\n",
        "plt.ylabel('Loss')\r\n",
        "plt.xlabel('Epoch')\r\n",
        "plt.legend(['Train'],loc='upper left')\r\n",
        "plt.show()"
      ],
      "execution_count": 994,
      "outputs": [
        {
          "output_type": "display_data",
          "data": {
            "image/png": "[encoded data removed]",
            "text/plain": [
              "<Figure size 432x288 with 1 Axes>"
            ]
          },
          "metadata": {
            "tags": [],
            "needs_background": "light"
          }
        }
      ]
    },
    {
      "cell_type": "code",
      "metadata": {
        "colab": {
          "base_uri": "https://localhost:8080/",
          "height": 0
        },
        "id": "QJJle3hc2yku",
        "outputId": "65b29e6b-e0d8-4061-f0f0-4e4901f2755f"
      },
      "source": [
        "#Testowanie skuteczności sieci\r\n",
        "y_result_train = (model.predict(x_train) > 0.5).astype(\"int32\")\r\n",
        "y_result_test = (model.predict(x_test) > 0.5).astype(\"int32\")\r\n",
        "\r\n",
        "f_train=0\r\n",
        "f_test=0\r\n",
        "for i in range(len(y_train)):\r\n",
        "  if y_result_train[i] != y_train[i]:\r\n",
        "    f_train += 1\r\n",
        "for i in range(len(y_test)):\r\n",
        "  if y_result_test[i] != y_test[i]:\r\n",
        "    f_test += 1\r\n",
        "  \r\n",
        "print(\"Liczba bledow ciagu treningowego:\", f_train)\r\n",
        "print(\"Procent popelnionych bledow: %.2f %%\" % (f_train/(len(y_train))*100))\r\n",
        "print(\"Efektywnosc: %.2f %%\" % (100-(f_train/(len(y_train))*100)))\r\n",
        "\r\n",
        "print(\"Liczba bledow ciagu testowego:\", f_test)\r\n",
        "print(\"Procent popelnionych bledow: %.2f %%\" % (f_test/(len(y_test))*100))\r\n",
        "print(\"Efektywnosc: %.2f %%\" % (100-(f_test/(len(y_test))*100)))"
      ],
      "execution_count": 995,
      "outputs": [
        {
          "output_type": "stream",
          "text": [
            "Liczba bledow ciagu treningowego: 117\n",
            "Procent popelnionych bledow: 19.06 %\n",
            "Efektywnosc: 80.94 %\n",
            "Liczba bledow ciagu testowego: 45\n",
            "Procent popelnionych bledow: 29.22 %\n",
            "Efektywnosc: 70.78 %\n"
          ],
          "name": "stdout"
        }
      ]
    },
    {
      "cell_type": "markdown",
      "metadata": {
        "id": "sHgYrnXPBJNo"
      },
      "source": [
        "**2 próba**\r\n",
        " - 4 warstwy \r\n",
        "    - w 1 warstwie: 24 neuronów\r\n",
        "    - w 2 warstwie: 12 neuronów\r\n",
        "    - w 3 warstwie: 6 neuronów\r\n",
        "    - w 4 warstwie: 1 neuron\r\n",
        "\r\n",
        " - 1000 epok\r\n",
        " - batch_size=40"
      ]
    },
    {
      "cell_type": "code",
      "metadata": {
        "id": "T62e-wceBM_m"
      },
      "source": [
        "#Przygotowanie modelu sieci neuronowej\r\n",
        "\r\n",
        "M=24 #liczba neuronów w 1 warstwie\r\n",
        "N=12 #liczba neuronów w 2 warstwie\r\n",
        "B=6\r\n",
        "# input_dim=8 <- 8 wartości wejściowych\r\n",
        "model = Sequential()  \r\n",
        "model.add( Dense(M, activation='sigmoid', input_dim=8) ) #warstwa1\r\n",
        "model.add( Dense(N, activation='relu') )           #warstwa2\r\n",
        "model.add( Dense(B, activation='relu') )           #warstwa3\r\n",
        "model.add( Dense(1, activation='sigmoid') )           #warstwa4\r\n",
        "model.compile(optimizer=\"adam\", loss=\"binary_crossentropy\")"
      ],
      "execution_count": 1044,
      "outputs": []
    },
    {
      "cell_type": "code",
      "metadata": {
        "id": "KOaHrRhJBPNy"
      },
      "source": [
        "#Uczenie sieci neuronowej\r\n",
        "\r\n",
        "E=1000  #liczba epok uczenia \r\n",
        "history = model.fit(x_train, y_train, epochs=E, batch_size=40, verbose=0)"
      ],
      "execution_count": 1045,
      "outputs": []
    },
    {
      "cell_type": "code",
      "metadata": {
        "colab": {
          "base_uri": "https://localhost:8080/",
          "height": 295
        },
        "id": "Sg33kQQvBRJ4",
        "outputId": "61734a8a-a3dc-45ef-adf0-4a03870c3736"
      },
      "source": [
        "#wykres wartości funkcji celu\r\n",
        "plt.plot(history.history['loss'])\r\n",
        "plt.title('Model loss')\r\n",
        "plt.ylabel('Loss')\r\n",
        "plt.xlabel('Epoch')\r\n",
        "plt.legend(['Train'],loc='upper left')\r\n",
        "plt.show()"
      ],
      "execution_count": 1046,
      "outputs": [
        {
          "output_type": "display_data",
          "data": {
            "image/png": "[encoded data removed]",
            "text/plain": [
              "<Figure size 432x288 with 1 Axes>"
            ]
          },
          "metadata": {
            "tags": [],
            "needs_background": "light"
          }
        }
      ]
    },
    {
      "cell_type": "code",
      "metadata": {
        "colab": {
          "base_uri": "https://localhost:8080/",
          "height": 0
        },
        "id": "Ww_q6eUJBUMK",
        "outputId": "6059c37c-bd24-4037-84bb-f795a9c90c8f"
      },
      "source": [
        "#Testowanie skuteczności sieci\r\n",
        "y_result_train = (model.predict(x_train) > 0.5).astype(\"int32\")\r\n",
        "y_result_test = (model.predict(x_test) > 0.5).astype(\"int32\")\r\n",
        "\r\n",
        "f_train=0\r\n",
        "f_test=0\r\n",
        "for i in range(len(y_train)):\r\n",
        "  if y_result_train[i] != y_train[i]:\r\n",
        "    f_train += 1\r\n",
        "for i in range(len(y_test)):\r\n",
        "  if y_result_test[i] != y_test[i]:\r\n",
        "    f_test += 1\r\n",
        "  \r\n",
        "print(\"Liczba bledow ciagu treningowego:\", f_train)\r\n",
        "print(\"Procent popelnionych bledow: %.2f %%\" % (f_train/(len(y_train))*100))\r\n",
        "print(\"Efektywnosc: %.2f %%\" % (100-(f_train/(len(y_train))*100)))\r\n",
        "\r\n",
        "print(\"Liczba bledow ciagu testowego:\", f_test)\r\n",
        "print(\"Procent popelnionych bledow: %.2f %%\" % (f_test/(len(y_test))*100))\r\n",
        "print(\"Efektywnosc: %.2f %%\" % (100-(f_test/(len(y_test))*100)))"
      ],
      "execution_count": 1047,
      "outputs": [
        {
          "output_type": "stream",
          "text": [
            "Liczba bledow ciagu treningowego: 69\n",
            "Procent popelnionych bledow: 11.24 %\n",
            "Efektywnosc: 88.76 %\n",
            "Liczba bledow ciagu testowego: 43\n",
            "Procent popelnionych bledow: 27.92 %\n",
            "Efektywnosc: 72.08 %\n"
          ],
          "name": "stdout"
        }
      ]
    }
  ]
}